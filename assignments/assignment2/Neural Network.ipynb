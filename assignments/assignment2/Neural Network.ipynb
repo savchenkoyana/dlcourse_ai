{
 "cells": [
  {
   "cell_type": "markdown",
   "metadata": {},
   "source": [
    "# Задание 2.1 - Нейронные сети\n",
    "\n",
    "В этом задании вы реализуете и натренируете настоящую нейроную сеть своими руками!\n",
    "\n",
    "В некотором смысле это будет расширением прошлого задания - нам нужно просто составить несколько линейных классификаторов вместе!\n",
    "\n",
    "<img src=\"https://i.redd.it/n9fgba8b0qr01.png\" alt=\"Stack_more_layers\" width=\"400px\"/>"
   ]
  },
  {
   "cell_type": "code",
   "execution_count": 64,
   "metadata": {},
   "outputs": [
    {
     "name": "stdout",
     "output_type": "stream",
     "text": [
      "The autoreload extension is already loaded. To reload it, use:\n",
      "  %reload_ext autoreload\n"
     ]
    }
   ],
   "source": [
    "import numpy as np\n",
    "import matplotlib.pyplot as plt\n",
    "\n",
    "%matplotlib inline\n",
    "\n",
    "%load_ext autoreload\n",
    "%autoreload 2"
   ]
  },
  {
   "cell_type": "code",
   "execution_count": 76,
   "metadata": {},
   "outputs": [],
   "source": [
    "from dataset import load_svhn, random_split_train_val\n",
    "from gradient_check import check_layer_gradient, check_layer_param_gradient, check_model_gradient\n",
    "from layers import FullyConnectedLayer, ReLULayer\n",
    "from model import TwoLayerNet\n",
    "from trainer import Trainer, Dataset\n",
    "from optim import SGD, MomentumSGD\n",
    "from metrics import multiclass_accuracy"
   ]
  },
  {
   "cell_type": "markdown",
   "metadata": {},
   "source": [
    "# Загружаем данные\n",
    "\n",
    "И разделяем их на training и validation."
   ]
  },
  {
   "cell_type": "code",
   "execution_count": 66,
   "metadata": {},
   "outputs": [],
   "source": [
    "def prepare_for_neural_network(train_X, test_X):\n",
    "    train_flat = train_X.reshape(train_X.shape[0], -1).astype(np.float) / 255.0\n",
    "    test_flat = test_X.reshape(test_X.shape[0], -1).astype(np.float) / 255.0\n",
    "    \n",
    "    # Subtract mean\n",
    "    mean_image = np.mean(train_flat, axis = 0)\n",
    "    train_flat -= mean_image\n",
    "    test_flat -= mean_image\n",
    "    \n",
    "    return train_flat, test_flat\n",
    "    \n",
    "train_X, train_y, test_X, test_y = load_svhn(\"data\", max_train=10000, max_test=1000)    \n",
    "train_X, test_X = prepare_for_neural_network(train_X, test_X)\n",
    "# Split train into train and val\n",
    "train_X, train_y, val_X, val_y = random_split_train_val(train_X, train_y, num_val = 1000)"
   ]
  },
  {
   "cell_type": "markdown",
   "metadata": {},
   "source": [
    "# Как всегда, начинаем с кирпичиков\n",
    "\n",
    "Мы будем реализовывать необходимые нам слои по очереди. Каждый слой должен реализовать:\n",
    "- прямой проход (forward pass), который генерирует выход слоя по входу и запоминает необходимые данные\n",
    "- обратный проход (backward pass), который получает градиент по выходу слоя и вычисляет градиент по входу и по параметрам\n",
    "\n",
    "Начнем с ReLU, у которого параметров нет."
   ]
  },
  {
   "cell_type": "code",
   "execution_count": 67,
   "metadata": {
    "scrolled": false
   },
   "outputs": [
    {
     "name": "stdout",
     "output_type": "stream",
     "text": [
      "Gradient check passed!\n"
     ]
    }
   ],
   "source": [
    "# TODO: Implement ReLULayer layer in layers.py\n",
    "# Note: you'll need to copy implementation of the gradient_check function from the previous assignment\n",
    "\n",
    "X = np.array([[1,-2,3],\n",
    "              [-1, 2, 0.1]\n",
    "              ])\n",
    "\n",
    "assert check_layer_gradient(ReLULayer(), X)"
   ]
  },
  {
   "cell_type": "markdown",
   "metadata": {},
   "source": [
    "А теперь реализуем полносвязный слой (fully connected layer), у которого будет два массива параметров: W (weights) и B (bias).\n",
    "\n",
    "Все параметры наши слои будут использовать для параметров специальный класс `Param`, в котором будут храниться значения параметров и градиенты этих параметров, вычисляемые во время обратного прохода.\n",
    "\n",
    "Это даст возможность аккумулировать (суммировать) градиенты из разных частей функции потерь, например, из cross-entropy loss и regularization loss."
   ]
  },
  {
   "cell_type": "code",
   "execution_count": 68,
   "metadata": {},
   "outputs": [
    {
     "name": "stdout",
     "output_type": "stream",
     "text": [
      "Gradient check passed!\n",
      "Gradient check passed!\n",
      "Gradient check passed!\n"
     ]
    }
   ],
   "source": [
    "# TODO: Implement FullyConnected layer forward and backward methods\n",
    "assert check_layer_gradient(FullyConnectedLayer(3, 4), X)\n",
    "# TODO: Implement storing gradients for W and B\n",
    "assert check_layer_param_gradient(FullyConnectedLayer(3, 4), X, 'W')\n",
    "assert check_layer_param_gradient(FullyConnectedLayer(3, 4), X, 'B')"
   ]
  },
  {
   "cell_type": "markdown",
   "metadata": {},
   "source": [
    "## Создаем нейронную сеть\n",
    "\n",
    "Теперь мы реализуем простейшую нейронную сеть с двумя полносвязным слоями и нелинейностью ReLU. Реализуйте функцию `compute_loss_and_gradients`, она должна запустить прямой и обратный проход через оба слоя для вычисления градиентов.\n",
    "\n",
    "Не забудьте реализовать очистку градиентов в начале функции."
   ]
  },
  {
   "cell_type": "code",
   "execution_count": 69,
   "metadata": {},
   "outputs": [
    {
     "name": "stdout",
     "output_type": "stream",
     "text": [
      "Checking gradient for param_0\n",
      "Gradient check passed!\n",
      "Checking gradient for param_1\n",
      "Gradient check passed!\n",
      "Checking gradient for param_2\n",
      "Gradient check passed!\n",
      "Checking gradient for param_3\n",
      "Gradient check passed!\n"
     ]
    },
    {
     "data": {
      "text/plain": [
       "True"
      ]
     },
     "execution_count": 69,
     "metadata": {},
     "output_type": "execute_result"
    }
   ],
   "source": [
    "# TODO: In model.py, implement compute_loss_and_gradients function\n",
    "model = TwoLayerNet(n_input = train_X.shape[1], n_output = 10, hidden_layer_size = 3, reg = 0)\n",
    "loss = model.compute_loss_and_gradients(train_X[:2], train_y[:2])\n",
    "\n",
    "# TODO Now implement backward pass and aggregate all of the params\n",
    "check_model_gradient(model, train_X[:2], train_y[:2])"
   ]
  },
  {
   "cell_type": "markdown",
   "metadata": {},
   "source": [
    "Теперь добавьте к модели регуляризацию - она должна прибавляться к loss и делать свой вклад в градиенты."
   ]
  },
  {
   "cell_type": "code",
   "execution_count": 70,
   "metadata": {},
   "outputs": [
    {
     "name": "stdout",
     "output_type": "stream",
     "text": [
      "Checking gradient for param_0\n",
      "Gradient check passed!\n",
      "Checking gradient for param_1\n",
      "Gradient check passed!\n",
      "Checking gradient for param_2\n",
      "Gradient check passed!\n",
      "Checking gradient for param_3\n",
      "Gradient check passed!\n"
     ]
    },
    {
     "data": {
      "text/plain": [
       "True"
      ]
     },
     "execution_count": 70,
     "metadata": {},
     "output_type": "execute_result"
    }
   ],
   "source": [
    "# TODO Now implement l2 regularization in the forward and backward pass\n",
    "model_with_reg = TwoLayerNet(n_input = train_X.shape[1], n_output = 10, hidden_layer_size = 3, reg = 1e1)\n",
    "loss_with_reg = model_with_reg.compute_loss_and_gradients(train_X[:2], train_y[:2])\n",
    "assert loss_with_reg > loss and not np.isclose(loss_with_reg, loss), \\\n",
    "    \"Loss with regularization (%2.4f) should be higher than without it (%2.4f)!\" % (loss, loss_with_reg)\n",
    "\n",
    "check_model_gradient(model_with_reg, train_X[:2], train_y[:2])"
   ]
  },
  {
   "cell_type": "markdown",
   "metadata": {},
   "source": [
    "Также реализуем функцию предсказания (вычисления значения) модели на новых данных.\n",
    "\n",
    "Какое значение точности мы ожидаем увидеть до начала тренировки?"
   ]
  },
  {
   "cell_type": "code",
   "execution_count": 71,
   "metadata": {},
   "outputs": [
    {
     "data": {
      "text/plain": [
       "0.1"
      ]
     },
     "execution_count": 71,
     "metadata": {},
     "output_type": "execute_result"
    }
   ],
   "source": [
    "# Finally, implement predict function!\n",
    "\n",
    "# TODO: Implement predict function\n",
    "# What would be the value we expect?\n",
    "multiclass_accuracy(model_with_reg.predict(train_X[:30]), train_y[:30]) "
   ]
  },
  {
   "cell_type": "markdown",
   "metadata": {},
   "source": [
    "# Допишем код для процесса тренировки\n",
    "\n",
    "Если все реализовано корректно, значение функции ошибки должно уменьшаться с каждой эпохой, пусть и медленно. Не беспокойтесь пока про validation accuracy."
   ]
  },
  {
   "cell_type": "code",
   "execution_count": 77,
   "metadata": {},
   "outputs": [
    {
     "name": "stdout",
     "output_type": "stream",
     "text": [
      "Train loss: 2.321320, val loss: 5.384866, train accuracy: 0.196667, val accuracy: 0.072000\n",
      "Train loss: 2.302298, val loss: 2.302183, train accuracy: 0.196667, val accuracy: 0.206000\n",
      "Train loss: 2.302295, val loss: 2.302383, train accuracy: 0.196667, val accuracy: 0.206000\n",
      "Train loss: 2.302292, val loss: 2.302121, train accuracy: 0.148222, val accuracy: 0.206000\n",
      "Train loss: 2.302314, val loss: 2.302323, train accuracy: 0.196667, val accuracy: 0.140000\n",
      "Train loss: 2.302286, val loss: 2.302088, train accuracy: 0.196667, val accuracy: 0.206000\n",
      "Train loss: 2.302293, val loss: 2.302119, train accuracy: 0.196667, val accuracy: 0.206000\n",
      "Train loss: 2.302285, val loss: 2.302158, train accuracy: 0.196667, val accuracy: 0.206000\n",
      "Train loss: 2.302312, val loss: 2.302229, train accuracy: 0.196667, val accuracy: 0.206000\n",
      "Train loss: 2.302288, val loss: 2.302141, train accuracy: 0.196667, val accuracy: 0.206000\n",
      "Train loss: 2.302296, val loss: 2.302215, train accuracy: 0.196667, val accuracy: 0.206000\n",
      "Train loss: 2.302287, val loss: 2.302205, train accuracy: 0.196667, val accuracy: 0.206000\n",
      "Train loss: 2.302304, val loss: 2.302111, train accuracy: 0.196667, val accuracy: 0.206000\n",
      "Train loss: 2.302290, val loss: 2.302089, train accuracy: 0.196667, val accuracy: 0.206000\n",
      "Train loss: 2.302285, val loss: 2.302106, train accuracy: 0.196667, val accuracy: 0.206000\n",
      "Train loss: 2.302292, val loss: 2.302116, train accuracy: 0.196667, val accuracy: 0.206000\n",
      "Train loss: 2.302288, val loss: 2.302316, train accuracy: 0.196667, val accuracy: 0.206000\n",
      "Train loss: 2.302302, val loss: 2.302181, train accuracy: 0.196667, val accuracy: 0.206000\n",
      "Train loss: 2.302289, val loss: 2.302138, train accuracy: 0.196667, val accuracy: 0.206000\n",
      "Train loss: 2.302299, val loss: 2.302268, train accuracy: 0.196667, val accuracy: 0.206000\n"
     ]
    }
   ],
   "source": [
    "model = TwoLayerNet(n_input = train_X.shape[1], n_output = 10, hidden_layer_size = 100, reg = 1e1)\n",
    "dataset = Dataset(train_X, train_y, val_X, val_y)\n",
    "trainer = Trainer(model, dataset, SGD(), learning_rate = 1e-2)\n",
    "\n",
    "# TODO Implement missing pieces in Trainer.fit function\n",
    "# You should expect loss to go down every epoch, even if it's slow\n",
    "train_loss_history, val_loss_history, train_acc_history, val_acc_history = trainer.fit()"
   ]
  },
  {
   "cell_type": "markdown",
   "metadata": {},
   "source": [
    "# Улучшаем процесс тренировки\n",
    "\n",
    "Мы реализуем несколько ключевых оптимизаций, необходимых для тренировки современных нейросетей."
   ]
  },
  {
   "cell_type": "markdown",
   "metadata": {},
   "source": [
    "## Уменьшение скорости обучения (learning rate decay)\n",
    "\n",
    "Одна из необходимых оптимизаций во время тренировки нейронных сетей - постепенное уменьшение скорости обучения по мере тренировки.\n",
    "\n",
    "Один из стандартных методов - уменьшение скорости обучения (learning rate) каждые N эпох на коэффициент d (часто называемый decay). Значения N и d, как всегда, являются гиперпараметрами и должны подбираться на основе эффективности на проверочных данных (validation data). \n",
    "\n",
    "В нашем случае N будет равным 1."
   ]
  },
  {
   "cell_type": "code",
   "execution_count": 78,
   "metadata": {},
   "outputs": [
    {
     "name": "stdout",
     "output_type": "stream",
     "text": [
      "Train loss: 2.299020, val loss: 2.333414, train accuracy: 0.196667, val accuracy: 0.062000\n",
      "Train loss: 2.278365, val loss: 2.277364, train accuracy: 0.196667, val accuracy: 0.206000\n",
      "Train loss: 2.275763, val loss: 2.270304, train accuracy: 0.196667, val accuracy: 0.206000\n",
      "Train loss: 2.275210, val loss: 2.268788, train accuracy: 0.196667, val accuracy: 0.206000\n",
      "Train loss: 2.274683, val loss: 2.268628, train accuracy: 0.196667, val accuracy: 0.206000\n",
      "Train loss: 2.273854, val loss: 2.267405, train accuracy: 0.196667, val accuracy: 0.206000\n",
      "Train loss: 2.273001, val loss: 2.266649, train accuracy: 0.196667, val accuracy: 0.206000\n",
      "Train loss: 2.272223, val loss: 2.265039, train accuracy: 0.196667, val accuracy: 0.206000\n",
      "Train loss: 2.271841, val loss: 2.264050, train accuracy: 0.196667, val accuracy: 0.206000\n",
      "Train loss: 2.271710, val loss: 2.263508, train accuracy: 0.196667, val accuracy: 0.206000\n",
      "Train loss: 2.271645, val loss: 2.263441, train accuracy: 0.196667, val accuracy: 0.206000\n",
      "Train loss: 2.271536, val loss: 2.263134, train accuracy: 0.196667, val accuracy: 0.206000\n",
      "Train loss: 2.271602, val loss: 2.262896, train accuracy: 0.196667, val accuracy: 0.206000\n",
      "Train loss: 2.271537, val loss: 2.262755, train accuracy: 0.196667, val accuracy: 0.206000\n",
      "Train loss: 2.271588, val loss: 2.263059, train accuracy: 0.196667, val accuracy: 0.206000\n",
      "Train loss: 2.271605, val loss: 2.263366, train accuracy: 0.196667, val accuracy: 0.206000\n",
      "Train loss: 2.271584, val loss: 2.263103, train accuracy: 0.196667, val accuracy: 0.206000\n",
      "Train loss: 2.271537, val loss: 2.262979, train accuracy: 0.196667, val accuracy: 0.206000\n",
      "Train loss: 2.271555, val loss: 2.263015, train accuracy: 0.196667, val accuracy: 0.206000\n",
      "Train loss: 2.271568, val loss: 2.262999, train accuracy: 0.196667, val accuracy: 0.206000\n"
     ]
    }
   ],
   "source": [
    "# TODO Implement learning rate decay inside Trainer.fit method\n",
    "# Decay should happen once per epoch\n",
    "\n",
    "model = TwoLayerNet(n_input = train_X.shape[1], n_output = 10, hidden_layer_size = 100, reg = 1e-1)\n",
    "dataset = Dataset(train_X, train_y, val_X, val_y)\n",
    "trainer = Trainer(model, dataset, SGD(), learning_rate_decay=0.99)\n",
    "\n",
    "initial_learning_rate = trainer.learning_rate\n",
    "train_loss_history, val_loss_history, train_history, val_history = trainer.fit()\n",
    "\n",
    "assert trainer.learning_rate < initial_learning_rate, \"Learning rate should've been reduced\"\n",
    "assert trainer.learning_rate > 0.5*initial_learning_rate, \"Learning rate shouldn'tve been reduced that much!\""
   ]
  },
  {
   "cell_type": "markdown",
   "metadata": {},
   "source": [
    "# Накопление импульса (Momentum SGD)\n",
    "\n",
    "Другой большой класс оптимизаций - использование более эффективных методов градиентного спуска. Мы реализуем один из них - накопление импульса (Momentum SGD).\n",
    "\n",
    "Этот метод хранит скорость движения, использует градиент для ее изменения на каждом шаге, и изменяет веса пропорционально значению скорости.\n",
    "(Физическая аналогия: Вместо скорости градиенты теперь будут задавать ускорение, но будет присутствовать сила трения.)\n",
    "\n",
    "```\n",
    "velocity = momentum * velocity - learning_rate * gradient \n",
    "w = w + velocity\n",
    "```\n",
    "\n",
    "`momentum` здесь коэффициент затухания, который тоже является гиперпараметром (к счастью, для него часто есть хорошее значение по умолчанию, типичный диапазон -- 0.8-0.99).\n",
    "\n",
    "Несколько полезных ссылок, где метод разбирается более подробно:  \n",
    "http://cs231n.github.io/neural-networks-3/#sgd  \n",
    "https://distill.pub/2017/momentum/"
   ]
  },
  {
   "cell_type": "code",
   "execution_count": 80,
   "metadata": {},
   "outputs": [
    {
     "name": "stdout",
     "output_type": "stream",
     "text": [
      "Train loss: 2.327435, val loss: 2.333237, train accuracy: 0.196667, val accuracy: 0.138000\n",
      "Train loss: 2.317041, val loss: 2.321009, train accuracy: 0.196667, val accuracy: 0.206000\n",
      "Train loss: 2.308849, val loss: 2.311122, train accuracy: 0.196667, val accuracy: 0.206000\n",
      "Train loss: 2.302374, val loss: 2.303326, train accuracy: 0.196667, val accuracy: 0.206000\n",
      "Train loss: 2.297241, val loss: 2.297045, train accuracy: 0.196667, val accuracy: 0.206000\n",
      "Train loss: 2.293151, val loss: 2.292032, train accuracy: 0.196667, val accuracy: 0.206000\n",
      "Train loss: 2.289873, val loss: 2.288030, train accuracy: 0.196667, val accuracy: 0.206000\n",
      "Train loss: 2.287247, val loss: 2.284769, train accuracy: 0.196667, val accuracy: 0.206000\n",
      "Train loss: 2.285132, val loss: 2.282104, train accuracy: 0.196667, val accuracy: 0.206000\n",
      "Train loss: 2.283414, val loss: 2.279969, train accuracy: 0.196667, val accuracy: 0.206000\n",
      "Train loss: 2.282022, val loss: 2.278206, train accuracy: 0.196667, val accuracy: 0.206000\n",
      "Train loss: 2.280886, val loss: 2.276765, train accuracy: 0.196667, val accuracy: 0.206000\n",
      "Train loss: 2.279953, val loss: 2.275557, train accuracy: 0.196667, val accuracy: 0.206000\n",
      "Train loss: 2.279189, val loss: 2.274571, train accuracy: 0.196667, val accuracy: 0.206000\n",
      "Train loss: 2.278556, val loss: 2.273744, train accuracy: 0.196667, val accuracy: 0.206000\n",
      "Train loss: 2.278032, val loss: 2.273056, train accuracy: 0.196667, val accuracy: 0.206000\n",
      "Train loss: 2.277596, val loss: 2.272468, train accuracy: 0.196667, val accuracy: 0.206000\n",
      "Train loss: 2.277230, val loss: 2.271984, train accuracy: 0.196667, val accuracy: 0.206000\n",
      "Train loss: 2.276926, val loss: 2.271565, train accuracy: 0.196667, val accuracy: 0.206000\n",
      "Train loss: 2.276667, val loss: 2.271211, train accuracy: 0.196667, val accuracy: 0.206000\n"
     ]
    }
   ],
   "source": [
    "# TODO: Implement MomentumSGD.update function in optim.py\n",
    "\n",
    "model = TwoLayerNet(n_input = train_X.shape[1], n_output = 10, hidden_layer_size = 100, reg = 1e-1)\n",
    "dataset = Dataset(train_X, train_y, val_X, val_y)\n",
    "trainer = Trainer(model, dataset, MomentumSGD(), learning_rate=1e-4, learning_rate_decay=0.99)\n",
    "\n",
    "# You should see even better results than before!\n",
    "train_loss_history, val_loss_history, train_history, val_history = trainer.fit()"
   ]
  },
  {
   "cell_type": "code",
   "execution_count": 83,
   "metadata": {},
   "outputs": [
    {
     "data": {
      "text/plain": [
       "[<matplotlib.lines.Line2D at 0x7f4602272350>]"
      ]
     },
     "execution_count": 83,
     "metadata": {},
     "output_type": "execute_result"
    },
    {
     "data": {
      "image/png": "[encoded data removed]",
      "text/plain": [
       "<Figure size 432x288 with 1 Axes>"
      ]
     },
     "metadata": {
      "needs_background": "light"
     },
     "output_type": "display_data"
    }
   ],
   "source": [
    "plt.plot(train_loss_history)\n",
    "plt.plot(val_loss_history)"
   ]
  },
  {
   "cell_type": "markdown",
   "metadata": {},
   "source": [
    "# Ну что, давайте уже тренировать сеть!"
   ]
  },
  {
   "cell_type": "markdown",
   "metadata": {},
   "source": [
    "## Последний тест - переобучимся (overfit) на маленьком наборе данных\n",
    "\n",
    "Хороший способ проверить, все ли реализовано корректно - переобучить сеть на маленьком наборе данных.  \n",
    "Наша модель обладает достаточной мощностью, чтобы приблизить маленький набор данных идеально, поэтому мы ожидаем, что на нем мы быстро дойдем до 100% точности на тренировочном наборе. \n",
    "\n",
    "Если этого не происходит, то где-то была допущена ошибка!"
   ]
  },
  {
   "cell_type": "code",
   "execution_count": 84,
   "metadata": {},
   "outputs": [
    {
     "name": "stdout",
     "output_type": "stream",
     "text": [
      "Train loss: 2.337005, val loss: 2.333410, train accuracy: 0.266667, val accuracy: 0.066667\n",
      "Train loss: 2.320738, val loss: 2.328338, train accuracy: 0.200000, val accuracy: 0.066667\n",
      "Train loss: 2.307938, val loss: 2.324709, train accuracy: 0.200000, val accuracy: 0.133333\n",
      "Train loss: 2.300504, val loss: 2.322373, train accuracy: 0.200000, val accuracy: 0.133333\n",
      "Train loss: 2.291078, val loss: 2.321321, train accuracy: 0.266667, val accuracy: 0.133333\n",
      "Train loss: 2.279760, val loss: 2.321587, train accuracy: 0.266667, val accuracy: 0.000000\n",
      "Train loss: 2.268128, val loss: 2.324176, train accuracy: 0.266667, val accuracy: 0.000000\n",
      "Train loss: 2.250930, val loss: 2.331084, train accuracy: 0.266667, val accuracy: 0.000000\n",
      "Train loss: 2.210024, val loss: 2.346865, train accuracy: 0.266667, val accuracy: 0.000000\n",
      "Train loss: 2.162179, val loss: 2.387068, train accuracy: 0.400000, val accuracy: 0.000000\n",
      "Train loss: 2.083014, val loss: 2.455162, train accuracy: 0.400000, val accuracy: 0.000000\n",
      "Train loss: 2.015193, val loss: 2.562583, train accuracy: 0.400000, val accuracy: 0.000000\n",
      "Train loss: 1.957075, val loss: 2.649806, train accuracy: 0.400000, val accuracy: 0.000000\n",
      "Train loss: 1.888651, val loss: 2.708928, train accuracy: 0.333333, val accuracy: 0.000000\n",
      "Train loss: 1.845515, val loss: 2.814740, train accuracy: 0.333333, val accuracy: 0.000000\n",
      "Train loss: 1.797968, val loss: 2.880300, train accuracy: 0.333333, val accuracy: 0.000000\n",
      "Train loss: 1.836325, val loss: 3.000089, train accuracy: 0.333333, val accuracy: 0.000000\n",
      "Train loss: 1.789137, val loss: 3.008789, train accuracy: 0.333333, val accuracy: 0.000000\n",
      "Train loss: 1.806232, val loss: 3.072379, train accuracy: 0.400000, val accuracy: 0.000000\n",
      "Train loss: 1.780149, val loss: 3.146926, train accuracy: 0.400000, val accuracy: 0.000000\n",
      "Train loss: 1.790815, val loss: 3.025617, train accuracy: 0.400000, val accuracy: 0.000000\n",
      "Train loss: 1.812398, val loss: 3.033698, train accuracy: 0.400000, val accuracy: 0.000000\n",
      "Train loss: 1.762007, val loss: 2.991168, train accuracy: 0.466667, val accuracy: 0.066667\n",
      "Train loss: 1.762566, val loss: 3.051744, train accuracy: 0.400000, val accuracy: 0.066667\n",
      "Train loss: 1.744784, val loss: 3.137569, train accuracy: 0.400000, val accuracy: 0.000000\n",
      "Train loss: 1.722262, val loss: 3.189756, train accuracy: 0.466667, val accuracy: 0.066667\n",
      "Train loss: 1.749593, val loss: 3.104940, train accuracy: 0.466667, val accuracy: 0.000000\n",
      "Train loss: 1.685926, val loss: 3.185630, train accuracy: 0.466667, val accuracy: 0.000000\n",
      "Train loss: 1.667685, val loss: 3.265751, train accuracy: 0.466667, val accuracy: 0.000000\n",
      "Train loss: 1.660518, val loss: 3.226831, train accuracy: 0.533333, val accuracy: 0.066667\n",
      "Train loss: 1.710796, val loss: 3.316840, train accuracy: 0.533333, val accuracy: 0.066667\n",
      "Train loss: 1.662121, val loss: 3.283806, train accuracy: 0.666667, val accuracy: 0.066667\n",
      "Train loss: 1.666266, val loss: 3.263783, train accuracy: 0.666667, val accuracy: 0.066667\n",
      "Train loss: 1.617005, val loss: 3.239284, train accuracy: 0.600000, val accuracy: 0.066667\n",
      "Train loss: 1.651523, val loss: 3.434702, train accuracy: 0.600000, val accuracy: 0.066667\n",
      "Train loss: 1.630773, val loss: 3.372990, train accuracy: 0.600000, val accuracy: 0.066667\n",
      "Train loss: 1.561928, val loss: 3.387659, train accuracy: 0.666667, val accuracy: 0.000000\n",
      "Train loss: 1.612259, val loss: 3.381561, train accuracy: 0.533333, val accuracy: 0.066667\n",
      "Train loss: 1.597325, val loss: 3.653303, train accuracy: 0.666667, val accuracy: 0.000000\n",
      "Train loss: 1.514358, val loss: 3.440210, train accuracy: 0.666667, val accuracy: 0.000000\n",
      "Train loss: 1.536746, val loss: 3.428348, train accuracy: 0.600000, val accuracy: 0.066667\n",
      "Train loss: 1.510930, val loss: 3.608909, train accuracy: 0.666667, val accuracy: 0.000000\n",
      "Train loss: 1.496245, val loss: 3.475253, train accuracy: 0.666667, val accuracy: 0.000000\n",
      "Train loss: 1.467904, val loss: 3.487113, train accuracy: 0.666667, val accuracy: 0.066667\n",
      "Train loss: 1.465456, val loss: 3.536989, train accuracy: 0.666667, val accuracy: 0.066667\n",
      "Train loss: 1.455677, val loss: 3.605718, train accuracy: 0.733333, val accuracy: 0.000000\n",
      "Train loss: 1.458763, val loss: 3.553225, train accuracy: 0.733333, val accuracy: 0.000000\n",
      "Train loss: 1.444165, val loss: 3.709978, train accuracy: 0.733333, val accuracy: 0.066667\n",
      "Train loss: 1.450901, val loss: 3.611197, train accuracy: 0.666667, val accuracy: 0.066667\n",
      "Train loss: 1.411502, val loss: 3.642425, train accuracy: 0.733333, val accuracy: 0.000000\n",
      "Train loss: 1.419786, val loss: 3.609017, train accuracy: 0.733333, val accuracy: 0.066667\n",
      "Train loss: 1.423095, val loss: 3.694698, train accuracy: 0.733333, val accuracy: 0.066667\n",
      "Train loss: 1.421858, val loss: 3.611603, train accuracy: 0.733333, val accuracy: 0.066667\n",
      "Train loss: 1.408103, val loss: 3.764329, train accuracy: 0.733333, val accuracy: 0.000000\n",
      "Train loss: 1.389229, val loss: 3.660734, train accuracy: 0.733333, val accuracy: 0.066667\n",
      "Train loss: 1.407735, val loss: 3.759188, train accuracy: 0.733333, val accuracy: 0.066667\n",
      "Train loss: 1.400325, val loss: 3.651969, train accuracy: 0.733333, val accuracy: 0.066667\n",
      "Train loss: 1.398508, val loss: 3.708830, train accuracy: 0.733333, val accuracy: 0.066667\n",
      "Train loss: 1.391347, val loss: 3.775455, train accuracy: 0.733333, val accuracy: 0.066667\n",
      "Train loss: 1.382028, val loss: 3.761052, train accuracy: 0.733333, val accuracy: 0.066667\n",
      "Train loss: 1.391155, val loss: 3.717126, train accuracy: 0.733333, val accuracy: 0.066667\n",
      "Train loss: 1.408435, val loss: 3.820047, train accuracy: 0.733333, val accuracy: 0.000000\n",
      "Train loss: 1.390808, val loss: 3.806947, train accuracy: 0.733333, val accuracy: 0.000000\n",
      "Train loss: 1.388382, val loss: 3.803509, train accuracy: 0.733333, val accuracy: 0.066667\n",
      "Train loss: 1.387614, val loss: 3.765339, train accuracy: 0.733333, val accuracy: 0.066667\n",
      "Train loss: 1.377393, val loss: 3.794565, train accuracy: 0.733333, val accuracy: 0.066667\n",
      "Train loss: 1.378448, val loss: 3.784856, train accuracy: 0.733333, val accuracy: 0.066667\n",
      "Train loss: 1.391778, val loss: 3.720814, train accuracy: 0.733333, val accuracy: 0.066667\n",
      "Train loss: 1.361115, val loss: 3.731213, train accuracy: 0.733333, val accuracy: 0.066667\n",
      "Train loss: 1.355562, val loss: 3.757093, train accuracy: 0.733333, val accuracy: 0.066667\n",
      "Train loss: 1.382389, val loss: 3.776365, train accuracy: 0.733333, val accuracy: 0.066667\n",
      "Train loss: 1.353810, val loss: 3.701752, train accuracy: 0.733333, val accuracy: 0.066667\n",
      "Train loss: 1.386669, val loss: 3.766418, train accuracy: 0.733333, val accuracy: 0.066667\n",
      "Train loss: 1.372096, val loss: 3.712758, train accuracy: 0.733333, val accuracy: 0.066667\n",
      "Train loss: 1.363460, val loss: 3.783561, train accuracy: 0.733333, val accuracy: 0.066667\n",
      "Train loss: 1.370653, val loss: 3.765681, train accuracy: 0.800000, val accuracy: 0.066667\n",
      "Train loss: 1.364234, val loss: 3.756846, train accuracy: 0.800000, val accuracy: 0.066667\n",
      "Train loss: 1.362121, val loss: 3.801626, train accuracy: 0.800000, val accuracy: 0.066667\n",
      "Train loss: 1.357938, val loss: 3.737723, train accuracy: 0.800000, val accuracy: 0.066667\n",
      "Train loss: 1.371107, val loss: 3.748750, train accuracy: 0.866667, val accuracy: 0.066667\n",
      "Train loss: 1.366307, val loss: 3.743351, train accuracy: 0.866667, val accuracy: 0.066667\n",
      "Train loss: 1.364872, val loss: 3.828242, train accuracy: 0.866667, val accuracy: 0.066667\n",
      "Train loss: 1.348017, val loss: 3.759339, train accuracy: 0.866667, val accuracy: 0.066667\n",
      "Train loss: 1.349884, val loss: 3.769600, train accuracy: 0.866667, val accuracy: 0.066667\n",
      "Train loss: 1.352805, val loss: 3.761750, train accuracy: 0.866667, val accuracy: 0.066667\n",
      "Train loss: 1.344666, val loss: 3.835112, train accuracy: 0.866667, val accuracy: 0.066667\n",
      "Train loss: 1.348855, val loss: 3.778640, train accuracy: 0.866667, val accuracy: 0.066667\n",
      "Train loss: 1.356579, val loss: 3.748582, train accuracy: 0.866667, val accuracy: 0.066667\n",
      "Train loss: 1.354511, val loss: 3.852753, train accuracy: 0.866667, val accuracy: 0.066667\n",
      "Train loss: 1.355040, val loss: 3.810407, train accuracy: 0.866667, val accuracy: 0.066667\n",
      "Train loss: 1.359156, val loss: 3.798966, train accuracy: 0.866667, val accuracy: 0.066667\n",
      "Train loss: 1.338692, val loss: 3.769386, train accuracy: 0.866667, val accuracy: 0.066667\n",
      "Train loss: 1.353265, val loss: 3.802994, train accuracy: 0.866667, val accuracy: 0.066667\n",
      "Train loss: 1.339343, val loss: 3.796856, train accuracy: 0.866667, val accuracy: 0.066667\n",
      "Train loss: 1.326380, val loss: 3.818451, train accuracy: 0.866667, val accuracy: 0.066667\n",
      "Train loss: 1.346468, val loss: 3.810436, train accuracy: 0.866667, val accuracy: 0.066667\n",
      "Train loss: 1.354789, val loss: 3.872345, train accuracy: 0.866667, val accuracy: 0.066667\n",
      "Train loss: 1.328804, val loss: 3.863343, train accuracy: 0.866667, val accuracy: 0.066667\n",
      "Train loss: 1.310122, val loss: 3.821134, train accuracy: 0.866667, val accuracy: 0.066667\n",
      "Train loss: 1.335349, val loss: 3.878027, train accuracy: 0.933333, val accuracy: 0.066667\n",
      "Train loss: 1.320759, val loss: 3.895382, train accuracy: 0.866667, val accuracy: 0.066667\n"
     ]
    },
    {
     "name": "stdout",
     "output_type": "stream",
     "text": [
      "Train loss: 1.331583, val loss: 3.886306, train accuracy: 0.933333, val accuracy: 0.066667\n",
      "Train loss: 1.330659, val loss: 3.908388, train accuracy: 0.933333, val accuracy: 0.066667\n",
      "Train loss: 1.315977, val loss: 3.835686, train accuracy: 0.933333, val accuracy: 0.066667\n",
      "Train loss: 1.299280, val loss: 3.845620, train accuracy: 1.000000, val accuracy: 0.066667\n",
      "Train loss: 1.304794, val loss: 3.889761, train accuracy: 1.000000, val accuracy: 0.066667\n",
      "Train loss: 1.313110, val loss: 3.928366, train accuracy: 0.933333, val accuracy: 0.066667\n",
      "Train loss: 1.302526, val loss: 3.886014, train accuracy: 1.000000, val accuracy: 0.066667\n",
      "Train loss: 1.290926, val loss: 3.947218, train accuracy: 1.000000, val accuracy: 0.066667\n",
      "Train loss: 1.301515, val loss: 3.990347, train accuracy: 1.000000, val accuracy: 0.066667\n",
      "Train loss: 1.291278, val loss: 3.908122, train accuracy: 1.000000, val accuracy: 0.066667\n",
      "Train loss: 1.296393, val loss: 3.935784, train accuracy: 1.000000, val accuracy: 0.066667\n",
      "Train loss: 1.296411, val loss: 3.955675, train accuracy: 0.933333, val accuracy: 0.066667\n",
      "Train loss: 1.297963, val loss: 3.962113, train accuracy: 1.000000, val accuracy: 0.066667\n",
      "Train loss: 1.282721, val loss: 3.931987, train accuracy: 1.000000, val accuracy: 0.066667\n",
      "Train loss: 1.282255, val loss: 3.934392, train accuracy: 1.000000, val accuracy: 0.000000\n",
      "Train loss: 1.280543, val loss: 3.952466, train accuracy: 1.000000, val accuracy: 0.066667\n",
      "Train loss: 1.285047, val loss: 3.938258, train accuracy: 1.000000, val accuracy: 0.000000\n",
      "Train loss: 1.288664, val loss: 3.982377, train accuracy: 1.000000, val accuracy: 0.066667\n",
      "Train loss: 1.274754, val loss: 3.988492, train accuracy: 1.000000, val accuracy: 0.000000\n",
      "Train loss: 1.278250, val loss: 3.965576, train accuracy: 1.000000, val accuracy: 0.000000\n",
      "Train loss: 1.274637, val loss: 3.924529, train accuracy: 1.000000, val accuracy: 0.066667\n",
      "Train loss: 1.287142, val loss: 3.969404, train accuracy: 1.000000, val accuracy: 0.066667\n",
      "Train loss: 1.271480, val loss: 4.012682, train accuracy: 1.000000, val accuracy: 0.000000\n",
      "Train loss: 1.270900, val loss: 3.950581, train accuracy: 1.000000, val accuracy: 0.000000\n",
      "Train loss: 1.272410, val loss: 3.972252, train accuracy: 1.000000, val accuracy: 0.000000\n",
      "Train loss: 1.272374, val loss: 3.986336, train accuracy: 1.000000, val accuracy: 0.000000\n",
      "Train loss: 1.285531, val loss: 3.997121, train accuracy: 1.000000, val accuracy: 0.000000\n",
      "Train loss: 1.258777, val loss: 3.936985, train accuracy: 1.000000, val accuracy: 0.000000\n",
      "Train loss: 1.274515, val loss: 3.973959, train accuracy: 1.000000, val accuracy: 0.000000\n",
      "Train loss: 1.304607, val loss: 3.917265, train accuracy: 1.000000, val accuracy: 0.000000\n",
      "Train loss: 1.268498, val loss: 3.946700, train accuracy: 1.000000, val accuracy: 0.000000\n",
      "Train loss: 1.266498, val loss: 3.981204, train accuracy: 1.000000, val accuracy: 0.000000\n",
      "Train loss: 1.268806, val loss: 3.993774, train accuracy: 1.000000, val accuracy: 0.000000\n",
      "Train loss: 1.275495, val loss: 3.980637, train accuracy: 1.000000, val accuracy: 0.000000\n",
      "Train loss: 1.273284, val loss: 3.955401, train accuracy: 1.000000, val accuracy: 0.000000\n",
      "Train loss: 1.266276, val loss: 4.013312, train accuracy: 1.000000, val accuracy: 0.000000\n",
      "Train loss: 1.267435, val loss: 3.957699, train accuracy: 1.000000, val accuracy: 0.000000\n",
      "Train loss: 1.273314, val loss: 4.034445, train accuracy: 1.000000, val accuracy: 0.000000\n",
      "Train loss: 1.263579, val loss: 3.974204, train accuracy: 1.000000, val accuracy: 0.000000\n",
      "Train loss: 1.267722, val loss: 3.972330, train accuracy: 1.000000, val accuracy: 0.000000\n",
      "Train loss: 1.261922, val loss: 3.954839, train accuracy: 1.000000, val accuracy: 0.000000\n",
      "Train loss: 1.254891, val loss: 3.948117, train accuracy: 1.000000, val accuracy: 0.000000\n",
      "Train loss: 1.262590, val loss: 3.977597, train accuracy: 1.000000, val accuracy: 0.000000\n",
      "Train loss: 1.271788, val loss: 4.007672, train accuracy: 1.000000, val accuracy: 0.000000\n",
      "Train loss: 1.299746, val loss: 3.984271, train accuracy: 1.000000, val accuracy: 0.000000\n",
      "Train loss: 1.264502, val loss: 3.945530, train accuracy: 1.000000, val accuracy: 0.000000\n",
      "Train loss: 1.256486, val loss: 3.961493, train accuracy: 1.000000, val accuracy: 0.000000\n",
      "Train loss: 1.258579, val loss: 3.986172, train accuracy: 1.000000, val accuracy: 0.000000\n",
      "Train loss: 1.258483, val loss: 3.954145, train accuracy: 1.000000, val accuracy: 0.000000\n"
     ]
    }
   ],
   "source": [
    "data_size = 15\n",
    "model = TwoLayerNet(n_input = train_X.shape[1], n_output = 10, hidden_layer_size = 100, reg = 1e-1)\n",
    "dataset = Dataset(train_X[:data_size], train_y[:data_size], val_X[:data_size], val_y[:data_size])\n",
    "trainer = Trainer(model, dataset, SGD(), learning_rate=1e-1, num_epochs=150, batch_size=5)\n",
    "\n",
    "# You should expect this to reach 1.0 training accuracy \n",
    "train_loss_history, val_loss_history, train_history, val_history = trainer.fit()"
   ]
  },
  {
   "cell_type": "code",
   "execution_count": 85,
   "metadata": {},
   "outputs": [
    {
     "data": {
      "text/plain": [
       "[<matplotlib.lines.Line2D at 0x7f4602083850>]"
      ]
     },
     "execution_count": 85,
     "metadata": {},
     "output_type": "execute_result"
    },
    {
     "data": {
      "image/png": "[encoded data removed]",
      "text/plain": [
       "<Figure size 432x288 with 1 Axes>"
      ]
     },
     "metadata": {
      "needs_background": "light"
     },
     "output_type": "display_data"
    }
   ],
   "source": [
    "plt.plot(train_loss_history)\n",
    "plt.plot(val_loss_history)"
   ]
  },
  {
   "cell_type": "markdown",
   "metadata": {},
   "source": [
    "Теперь найдем гипепараметры, для которых этот процесс сходится быстрее.\n",
    "Если все реализовано корректно, то существуют параметры, при которых процесс сходится в **20** эпох или еще быстрее.\n",
    "Найдите их!"
   ]
  },
  {
   "cell_type": "code",
   "execution_count": 88,
   "metadata": {},
   "outputs": [
    {
     "name": "stdout",
     "output_type": "stream",
     "text": [
      "Train loss: 2.311835, val loss: 2.305627, train accuracy: 0.200000, val accuracy: 0.133333\n",
      "Train loss: 2.275169, val loss: 2.299711, train accuracy: 0.200000, val accuracy: 0.066667\n",
      "Train loss: 2.228475, val loss: 2.294051, train accuracy: 0.200000, val accuracy: 0.133333\n",
      "Train loss: 2.184538, val loss: 2.308246, train accuracy: 0.266667, val accuracy: 0.133333\n",
      "Train loss: 1.997378, val loss: 2.401904, train accuracy: 0.400000, val accuracy: 0.000000\n",
      "Train loss: 1.871719, val loss: 3.080008, train accuracy: 0.466667, val accuracy: 0.000000\n",
      "Train loss: 1.641050, val loss: 3.534438, train accuracy: 0.400000, val accuracy: 0.000000\n",
      "Train loss: 1.518906, val loss: 3.819001, train accuracy: 0.466667, val accuracy: 0.133333\n",
      "Train loss: 1.315534, val loss: 4.189881, train accuracy: 0.600000, val accuracy: 0.000000\n",
      "Train loss: 1.363558, val loss: 4.735193, train accuracy: 0.666667, val accuracy: 0.000000\n",
      "Train loss: 1.545160, val loss: 4.838770, train accuracy: 0.666667, val accuracy: 0.000000\n",
      "Train loss: 1.036676, val loss: 4.991965, train accuracy: 0.533333, val accuracy: 0.066667\n",
      "Train loss: 0.974157, val loss: 4.276221, train accuracy: 0.933333, val accuracy: 0.066667\n",
      "Train loss: 0.737927, val loss: 6.193825, train accuracy: 0.933333, val accuracy: 0.000000\n",
      "Train loss: 0.701029, val loss: 9.582541, train accuracy: 0.933333, val accuracy: 0.000000\n",
      "Train loss: 0.759753, val loss: 12.575960, train accuracy: 1.000000, val accuracy: 0.000000\n",
      "Train loss: 0.654705, val loss: 11.469911, train accuracy: 1.000000, val accuracy: 0.000000\n",
      "Train loss: 0.648215, val loss: 11.590283, train accuracy: 1.000000, val accuracy: 0.066667\n",
      "Train loss: 0.682237, val loss: 11.578461, train accuracy: 1.000000, val accuracy: 0.066667\n",
      "Train loss: 0.682955, val loss: 11.678428, train accuracy: 1.000000, val accuracy: 0.000000\n"
     ]
    }
   ],
   "source": [
    "# Now, tweak some hyper parameters and make it train to 1.0 accuracy in 20 epochs or less\n",
    "\n",
    "\n",
    "dataset = Dataset(train_X[:data_size], train_y[:data_size], val_X[:data_size], val_y[:data_size])\n",
    "\n",
    "#model = TwoLayerNet(n_input = train_X.shape[1], n_output = 10, hidden_layer_size = 100, reg = 0)\n",
    "#trainer = Trainer(model, dataset, MomentumSGD(), learning_rate=1e-1, num_epochs=20, batch_size=5)\n",
    "model = TwoLayerNet(n_input = train_X.shape[1], n_output = 10, hidden_layer_size = 100, reg = 0.01)\n",
    "trainer = Trainer(model, dataset, MomentumSGD(), learning_rate=1e-1, learning_rate_decay=0.99,\n",
    "                  num_epochs=20, batch_size=5)\n",
    "\n",
    "train_loss_history, val_loss_history, train_history, val_history = trainer.fit()"
   ]
  },
  {
   "cell_type": "markdown",
   "metadata": {},
   "source": [
    "# Итак, основное мероприятие!\n",
    "\n",
    "Натренируйте лучшую нейросеть! Можно добавлять и изменять параметры, менять количество нейронов в слоях сети и как угодно экспериментировать. \n",
    "\n",
    "Добейтесь точности лучше **60%** на validation set."
   ]
  },
  {
   "cell_type": "code",
   "execution_count": 98,
   "metadata": {},
   "outputs": [
    {
     "name": "stdout",
     "output_type": "stream",
     "text": [
      "Train loss: 2.258463, val loss: 2.305782, train accuracy: 0.196667, val accuracy: 0.078000\n",
      "Train loss: 2.238913, val loss: 2.222168, train accuracy: 0.196667, val accuracy: 0.206000\n",
      "Train loss: 2.196422, val loss: 2.217258, train accuracy: 0.237778, val accuracy: 0.206000\n",
      "Train loss: 2.125807, val loss: 2.125935, train accuracy: 0.269778, val accuracy: 0.241000\n",
      "Train loss: 2.051063, val loss: 2.088219, train accuracy: 0.347000, val accuracy: 0.279000\n",
      "Train loss: 1.978509, val loss: 1.991337, train accuracy: 0.399889, val accuracy: 0.358000\n",
      "Train loss: 1.934723, val loss: 1.933762, train accuracy: 0.456889, val accuracy: 0.381000\n",
      "Train loss: 1.888261, val loss: 1.876160, train accuracy: 0.499556, val accuracy: 0.480000\n",
      "Train loss: 1.842334, val loss: 1.859551, train accuracy: 0.551333, val accuracy: 0.518000\n",
      "Train loss: 1.826174, val loss: 1.835439, train accuracy: 0.576556, val accuracy: 0.563000\n",
      "Train loss: 1.809299, val loss: 1.805525, train accuracy: 0.556444, val accuracy: 0.566000\n",
      "Train loss: 1.824709, val loss: 1.826864, train accuracy: 0.601111, val accuracy: 0.560000\n",
      "Train loss: 1.799760, val loss: 1.793452, train accuracy: 0.576556, val accuracy: 0.599000\n",
      "Train loss: 1.792361, val loss: 1.802666, train accuracy: 0.591222, val accuracy: 0.577000\n",
      "Train loss: 1.791312, val loss: 1.786655, train accuracy: 0.619889, val accuracy: 0.593000\n",
      "Train loss: 1.789132, val loss: 1.769887, train accuracy: 0.609222, val accuracy: 0.614000\n",
      "Train loss: 1.786726, val loss: 1.793331, train accuracy: 0.629111, val accuracy: 0.604000\n",
      "Train loss: 1.784049, val loss: 1.774253, train accuracy: 0.627556, val accuracy: 0.641000\n",
      "Train loss: 1.794417, val loss: 1.783662, train accuracy: 0.623333, val accuracy: 0.623000\n",
      "Train loss: 1.784991, val loss: 1.784176, train accuracy: 0.599111, val accuracy: 0.613000\n",
      "Train loss: 1.797888, val loss: 1.811791, train accuracy: 0.601444, val accuracy: 0.586000\n",
      "Train loss: 1.782544, val loss: 1.773493, train accuracy: 0.611000, val accuracy: 0.609000\n",
      "Train loss: 1.778962, val loss: 1.794541, train accuracy: 0.629111, val accuracy: 0.620000\n",
      "Train loss: 1.778225, val loss: 1.769816, train accuracy: 0.626778, val accuracy: 0.614000\n",
      "Train loss: 1.783630, val loss: 1.776821, train accuracy: 0.632000, val accuracy: 0.606000\n",
      "Train loss: 1.785022, val loss: 1.766858, train accuracy: 0.641556, val accuracy: 0.637000\n",
      "Train loss: 1.776288, val loss: 1.785997, train accuracy: 0.623889, val accuracy: 0.639000\n",
      "Train loss: 1.774912, val loss: 1.788329, train accuracy: 0.618778, val accuracy: 0.623000\n",
      "Train loss: 1.792427, val loss: 1.801406, train accuracy: 0.635889, val accuracy: 0.619000\n",
      "Train loss: 1.777670, val loss: 1.783753, train accuracy: 0.635778, val accuracy: 0.623000\n",
      "Train loss: 1.770035, val loss: 1.810355, train accuracy: 0.612778, val accuracy: 0.626000\n",
      "Train loss: 1.779543, val loss: 1.791708, train accuracy: 0.645667, val accuracy: 0.616000\n",
      "Train loss: 1.779978, val loss: 1.770119, train accuracy: 0.627889, val accuracy: 0.639000\n",
      "Train loss: 1.780409, val loss: 1.817888, train accuracy: 0.633444, val accuracy: 0.621000\n",
      "Train loss: 1.768741, val loss: 1.790732, train accuracy: 0.641444, val accuracy: 0.631000\n",
      "Train loss: 1.765426, val loss: 1.762633, train accuracy: 0.612889, val accuracy: 0.632000\n",
      "Train loss: 1.768662, val loss: 1.817556, train accuracy: 0.649222, val accuracy: 0.604000\n",
      "Train loss: 1.775964, val loss: 1.759579, train accuracy: 0.642222, val accuracy: 0.651000\n",
      "Train loss: 1.771142, val loss: 1.778942, train accuracy: 0.633667, val accuracy: 0.636000\n",
      "Train loss: 1.763747, val loss: 1.783868, train accuracy: 0.645444, val accuracy: 0.629000\n",
      "Train loss: 1.777604, val loss: 1.779255, train accuracy: 0.668444, val accuracy: 0.637000\n",
      "Train loss: 1.768556, val loss: 1.766760, train accuracy: 0.654000, val accuracy: 0.666000\n",
      "Train loss: 1.779311, val loss: 1.746511, train accuracy: 0.641556, val accuracy: 0.641000\n",
      "Train loss: 1.773083, val loss: 1.786594, train accuracy: 0.652222, val accuracy: 0.633000\n",
      "Train loss: 1.767805, val loss: 1.787708, train accuracy: 0.649111, val accuracy: 0.633000\n",
      "Train loss: 1.769940, val loss: 1.779055, train accuracy: 0.651778, val accuracy: 0.637000\n",
      "Train loss: 1.773277, val loss: 1.757259, train accuracy: 0.654667, val accuracy: 0.634000\n",
      "Train loss: 1.772051, val loss: 1.775199, train accuracy: 0.652778, val accuracy: 0.636000\n",
      "Train loss: 1.764258, val loss: 1.773927, train accuracy: 0.655556, val accuracy: 0.641000\n",
      "Train loss: 1.764259, val loss: 1.792671, train accuracy: 0.630000, val accuracy: 0.635000\n",
      "Train loss: 1.770218, val loss: 1.777237, train accuracy: 0.644111, val accuracy: 0.616000\n",
      "Train loss: 1.774935, val loss: 1.758220, train accuracy: 0.631889, val accuracy: 0.629000\n",
      "Train loss: 1.762625, val loss: 1.796059, train accuracy: 0.649778, val accuracy: 0.617000\n",
      "Train loss: 1.755185, val loss: 1.753591, train accuracy: 0.666889, val accuracy: 0.638000\n",
      "Train loss: 1.755069, val loss: 1.750655, train accuracy: 0.677111, val accuracy: 0.654000\n",
      "Train loss: 1.751558, val loss: 1.758781, train accuracy: 0.656000, val accuracy: 0.654000\n",
      "Train loss: 1.756903, val loss: 1.760604, train accuracy: 0.635778, val accuracy: 0.652000\n",
      "Train loss: 1.763210, val loss: 1.757023, train accuracy: 0.657111, val accuracy: 0.630000\n",
      "Train loss: 1.764942, val loss: 1.772282, train accuracy: 0.665444, val accuracy: 0.650000\n",
      "Train loss: 1.754406, val loss: 1.766893, train accuracy: 0.666000, val accuracy: 0.656000\n",
      "Train loss: 1.751629, val loss: 1.745278, train accuracy: 0.684222, val accuracy: 0.651000\n",
      "Train loss: 1.752160, val loss: 1.745905, train accuracy: 0.672111, val accuracy: 0.675000\n",
      "Train loss: 1.750298, val loss: 1.762130, train accuracy: 0.674000, val accuracy: 0.652000\n",
      "Train loss: 1.756037, val loss: 1.759757, train accuracy: 0.652889, val accuracy: 0.666000\n",
      "Train loss: 1.747851, val loss: 1.752915, train accuracy: 0.678667, val accuracy: 0.647000\n",
      "Train loss: 1.749991, val loss: 1.777852, train accuracy: 0.655333, val accuracy: 0.654000\n",
      "Train loss: 1.748222, val loss: 1.768765, train accuracy: 0.671556, val accuracy: 0.635000\n",
      "Train loss: 1.757930, val loss: 1.760867, train accuracy: 0.663111, val accuracy: 0.655000\n",
      "Train loss: 1.748020, val loss: 1.771739, train accuracy: 0.664222, val accuracy: 0.650000\n",
      "Train loss: 1.747393, val loss: 1.729051, train accuracy: 0.643222, val accuracy: 0.637000\n",
      "Train loss: 1.753536, val loss: 1.767958, train accuracy: 0.680000, val accuracy: 0.629000\n",
      "Train loss: 1.743687, val loss: 1.743089, train accuracy: 0.662333, val accuracy: 0.662000\n",
      "Train loss: 1.742953, val loss: 1.758532, train accuracy: 0.674444, val accuracy: 0.645000\n",
      "Train loss: 1.744017, val loss: 1.760369, train accuracy: 0.664778, val accuracy: 0.662000\n",
      "Train loss: 1.747839, val loss: 1.747106, train accuracy: 0.672444, val accuracy: 0.656000\n",
      "Train loss: 1.742158, val loss: 1.738107, train accuracy: 0.680667, val accuracy: 0.672000\n",
      "Train loss: 1.739869, val loss: 1.720503, train accuracy: 0.673778, val accuracy: 0.670000\n",
      "Train loss: 1.741311, val loss: 1.782130, train accuracy: 0.680333, val accuracy: 0.653000\n",
      "Train loss: 1.741691, val loss: 1.762457, train accuracy: 0.671111, val accuracy: 0.665000\n",
      "Train loss: 1.744789, val loss: 1.766014, train accuracy: 0.666333, val accuracy: 0.657000\n",
      "Train loss: 1.745844, val loss: 1.727546, train accuracy: 0.685556, val accuracy: 0.659000\n",
      "Train loss: 1.740114, val loss: 1.726200, train accuracy: 0.675222, val accuracy: 0.672000\n",
      "Train loss: 1.745414, val loss: 1.747269, train accuracy: 0.664556, val accuracy: 0.660000\n",
      "Train loss: 1.740096, val loss: 1.747073, train accuracy: 0.671667, val accuracy: 0.660000\n",
      "Train loss: 1.739606, val loss: 1.760380, train accuracy: 0.663000, val accuracy: 0.653000\n",
      "Train loss: 1.744882, val loss: 1.750568, train accuracy: 0.665111, val accuracy: 0.646000\n",
      "Train loss: 1.738169, val loss: 1.744514, train accuracy: 0.678222, val accuracy: 0.646000\n",
      "Train loss: 1.736253, val loss: 1.742155, train accuracy: 0.678000, val accuracy: 0.659000\n",
      "Train loss: 1.743169, val loss: 1.747345, train accuracy: 0.680222, val accuracy: 0.662000\n",
      "Train loss: 1.739425, val loss: 1.735453, train accuracy: 0.677667, val accuracy: 0.671000\n",
      "Train loss: 1.738247, val loss: 1.752251, train accuracy: 0.680000, val accuracy: 0.664000\n"
     ]
    },
    {
     "name": "stdout",
     "output_type": "stream",
     "text": [
      "Train loss: 1.733546, val loss: 1.734475, train accuracy: 0.669000, val accuracy: 0.679000\n",
      "Train loss: 1.734440, val loss: 1.733693, train accuracy: 0.676333, val accuracy: 0.655000\n",
      "Train loss: 1.740083, val loss: 1.742929, train accuracy: 0.685111, val accuracy: 0.667000\n",
      "Train loss: 1.736767, val loss: 1.781415, train accuracy: 0.671778, val accuracy: 0.664000\n",
      "Train loss: 1.737291, val loss: 1.751143, train accuracy: 0.673889, val accuracy: 0.667000\n",
      "Train loss: 1.738603, val loss: 1.757532, train accuracy: 0.670444, val accuracy: 0.647000\n",
      "Train loss: 1.737429, val loss: 1.780069, train accuracy: 0.687667, val accuracy: 0.647000\n",
      "Train loss: 1.739356, val loss: 1.764350, train accuracy: 0.676889, val accuracy: 0.663000\n",
      "Train loss: 1.738813, val loss: 1.768837, train accuracy: 0.682667, val accuracy: 0.651000\n",
      "Train loss: 1.736792, val loss: 1.736189, train accuracy: 0.675778, val accuracy: 0.665000\n",
      "Train loss: 1.735520, val loss: 1.742458, train accuracy: 0.683778, val accuracy: 0.660000\n",
      "Train loss: 1.736400, val loss: 1.749978, train accuracy: 0.681889, val accuracy: 0.676000\n",
      "Train loss: 1.732711, val loss: 1.747490, train accuracy: 0.683111, val accuracy: 0.670000\n",
      "Train loss: 1.733395, val loss: 1.746449, train accuracy: 0.676889, val accuracy: 0.668000\n",
      "Train loss: 1.731232, val loss: 1.757153, train accuracy: 0.674889, val accuracy: 0.662000\n",
      "Train loss: 1.732081, val loss: 1.724967, train accuracy: 0.688556, val accuracy: 0.657000\n",
      "Train loss: 1.731088, val loss: 1.733616, train accuracy: 0.677889, val accuracy: 0.674000\n",
      "Train loss: 1.736662, val loss: 1.742250, train accuracy: 0.676222, val accuracy: 0.660000\n",
      "Train loss: 1.731640, val loss: 1.745945, train accuracy: 0.679222, val accuracy: 0.666000\n",
      "Train loss: 1.733055, val loss: 1.763658, train accuracy: 0.676778, val accuracy: 0.652000\n",
      "Train loss: 1.735288, val loss: 1.751300, train accuracy: 0.678111, val accuracy: 0.659000\n",
      "Train loss: 1.732488, val loss: 1.736922, train accuracy: 0.680778, val accuracy: 0.653000\n",
      "Train loss: 1.729255, val loss: 1.747845, train accuracy: 0.683333, val accuracy: 0.664000\n",
      "Train loss: 1.729808, val loss: 1.760710, train accuracy: 0.684778, val accuracy: 0.680000\n",
      "Train loss: 1.727198, val loss: 1.758751, train accuracy: 0.688667, val accuracy: 0.678000\n",
      "Train loss: 1.725956, val loss: 1.761972, train accuracy: 0.680667, val accuracy: 0.677000\n",
      "Train loss: 1.730952, val loss: 1.750484, train accuracy: 0.671667, val accuracy: 0.667000\n",
      "Train loss: 1.736571, val loss: 1.768881, train accuracy: 0.678000, val accuracy: 0.662000\n",
      "Train loss: 1.726957, val loss: 1.747924, train accuracy: 0.691000, val accuracy: 0.662000\n",
      "Train loss: 1.725676, val loss: 1.733530, train accuracy: 0.687667, val accuracy: 0.672000\n",
      "Train loss: 1.725357, val loss: 1.743534, train accuracy: 0.687667, val accuracy: 0.673000\n",
      "Train loss: 1.726825, val loss: 1.735030, train accuracy: 0.678000, val accuracy: 0.662000\n",
      "Train loss: 1.729673, val loss: 1.740107, train accuracy: 0.687111, val accuracy: 0.645000\n",
      "Train loss: 1.728853, val loss: 1.742747, train accuracy: 0.687000, val accuracy: 0.676000\n",
      "Train loss: 1.728041, val loss: 1.755764, train accuracy: 0.682667, val accuracy: 0.677000\n",
      "Train loss: 1.736763, val loss: 1.758121, train accuracy: 0.684444, val accuracy: 0.661000\n",
      "Train loss: 1.729594, val loss: 1.748405, train accuracy: 0.681889, val accuracy: 0.666000\n",
      "Train loss: 1.729197, val loss: 1.756756, train accuracy: 0.686889, val accuracy: 0.663000\n",
      "Train loss: 1.726194, val loss: 1.750127, train accuracy: 0.685778, val accuracy: 0.662000\n",
      "Train loss: 1.728206, val loss: 1.766606, train accuracy: 0.688889, val accuracy: 0.669000\n",
      "Train loss: 1.723727, val loss: 1.755769, train accuracy: 0.695667, val accuracy: 0.670000\n",
      "Train loss: 1.723199, val loss: 1.730552, train accuracy: 0.688889, val accuracy: 0.669000\n",
      "Train loss: 1.724567, val loss: 1.768496, train accuracy: 0.682889, val accuracy: 0.672000\n",
      "Train loss: 1.726835, val loss: 1.738773, train accuracy: 0.685778, val accuracy: 0.660000\n",
      "Train loss: 1.727456, val loss: 1.737805, train accuracy: 0.669778, val accuracy: 0.672000\n",
      "Train loss: 1.726078, val loss: 1.745065, train accuracy: 0.679889, val accuracy: 0.668000\n",
      "Train loss: 1.725046, val loss: 1.732332, train accuracy: 0.684000, val accuracy: 0.667000\n",
      "Train loss: 1.727438, val loss: 1.750546, train accuracy: 0.677222, val accuracy: 0.668000\n",
      "Train loss: 1.729554, val loss: 1.721650, train accuracy: 0.688111, val accuracy: 0.654000\n",
      "Train loss: 1.725501, val loss: 1.751857, train accuracy: 0.685556, val accuracy: 0.673000\n",
      "Train loss: 1.727810, val loss: 1.734294, train accuracy: 0.687667, val accuracy: 0.662000\n",
      "Train loss: 1.726679, val loss: 1.732710, train accuracy: 0.687556, val accuracy: 0.673000\n",
      "Train loss: 1.722873, val loss: 1.754738, train accuracy: 0.692000, val accuracy: 0.673000\n",
      "Train loss: 1.722367, val loss: 1.734599, train accuracy: 0.684333, val accuracy: 0.681000\n",
      "Train loss: 1.723024, val loss: 1.753183, train accuracy: 0.685222, val accuracy: 0.668000\n",
      "Train loss: 1.723863, val loss: 1.729959, train accuracy: 0.697889, val accuracy: 0.657000\n",
      "Train loss: 1.728844, val loss: 1.745454, train accuracy: 0.679111, val accuracy: 0.678000\n",
      "Train loss: 1.723939, val loss: 1.734219, train accuracy: 0.693667, val accuracy: 0.670000\n",
      "Train loss: 1.721655, val loss: 1.748399, train accuracy: 0.691444, val accuracy: 0.676000\n",
      "Train loss: 1.721265, val loss: 1.738783, train accuracy: 0.686556, val accuracy: 0.674000\n",
      "Train loss: 1.722321, val loss: 1.746336, train accuracy: 0.687778, val accuracy: 0.669000\n",
      "Train loss: 1.720544, val loss: 1.746238, train accuracy: 0.694000, val accuracy: 0.669000\n",
      "Train loss: 1.722269, val loss: 1.736189, train accuracy: 0.679333, val accuracy: 0.677000\n",
      "Train loss: 1.722539, val loss: 1.744782, train accuracy: 0.692444, val accuracy: 0.672000\n",
      "Train loss: 1.725241, val loss: 1.732395, train accuracy: 0.681444, val accuracy: 0.674000\n",
      "Train loss: 1.724010, val loss: 1.721307, train accuracy: 0.696111, val accuracy: 0.670000\n",
      "Train loss: 1.721207, val loss: 1.747299, train accuracy: 0.689111, val accuracy: 0.681000\n",
      "Train loss: 1.721402, val loss: 1.730007, train accuracy: 0.685111, val accuracy: 0.675000\n",
      "Train loss: 1.720558, val loss: 1.732226, train accuracy: 0.695556, val accuracy: 0.676000\n",
      "Train loss: 1.718303, val loss: 1.723122, train accuracy: 0.694444, val accuracy: 0.688000\n",
      "Train loss: 1.718818, val loss: 1.726860, train accuracy: 0.692111, val accuracy: 0.673000\n",
      "Train loss: 1.717884, val loss: 1.762789, train accuracy: 0.692778, val accuracy: 0.672000\n",
      "Train loss: 1.717893, val loss: 1.736506, train accuracy: 0.687222, val accuracy: 0.670000\n",
      "Train loss: 1.719645, val loss: 1.741134, train accuracy: 0.692889, val accuracy: 0.670000\n",
      "Train loss: 1.721305, val loss: 1.765784, train accuracy: 0.690556, val accuracy: 0.679000\n",
      "Train loss: 1.721842, val loss: 1.717402, train accuracy: 0.685222, val accuracy: 0.676000\n",
      "Train loss: 1.719199, val loss: 1.746071, train accuracy: 0.690222, val accuracy: 0.671000\n",
      "Train loss: 1.721690, val loss: 1.752263, train accuracy: 0.680667, val accuracy: 0.663000\n",
      "Train loss: 1.716702, val loss: 1.746870, train accuracy: 0.688000, val accuracy: 0.664000\n",
      "Train loss: 1.717556, val loss: 1.723001, train accuracy: 0.686111, val accuracy: 0.678000\n",
      "Train loss: 1.717198, val loss: 1.736394, train accuracy: 0.687667, val accuracy: 0.673000\n",
      "Train loss: 1.717769, val loss: 1.703233, train accuracy: 0.694889, val accuracy: 0.677000\n",
      "Train loss: 1.719268, val loss: 1.754876, train accuracy: 0.694444, val accuracy: 0.681000\n",
      "Train loss: 1.716810, val loss: 1.746133, train accuracy: 0.692667, val accuracy: 0.673000\n",
      "Train loss: 1.717716, val loss: 1.752174, train accuracy: 0.692222, val accuracy: 0.675000\n",
      "Train loss: 1.718568, val loss: 1.723944, train accuracy: 0.690556, val accuracy: 0.681000\n",
      "Train loss: 1.716033, val loss: 1.761983, train accuracy: 0.689667, val accuracy: 0.677000\n",
      "Train loss: 1.716645, val loss: 1.723950, train accuracy: 0.689556, val accuracy: 0.678000\n",
      "Train loss: 1.716239, val loss: 1.778164, train accuracy: 0.695333, val accuracy: 0.673000\n",
      "Train loss: 1.715903, val loss: 1.745216, train accuracy: 0.698000, val accuracy: 0.681000\n",
      "Train loss: 1.716427, val loss: 1.717392, train accuracy: 0.694333, val accuracy: 0.680000\n"
     ]
    },
    {
     "name": "stdout",
     "output_type": "stream",
     "text": [
      "Train loss: 1.715553, val loss: 1.715890, train accuracy: 0.691333, val accuracy: 0.674000\n",
      "Train loss: 1.716281, val loss: 1.718714, train accuracy: 0.685778, val accuracy: 0.677000\n",
      "Train loss: 1.716979, val loss: 1.746553, train accuracy: 0.692000, val accuracy: 0.672000\n",
      "Train loss: 1.715147, val loss: 1.732524, train accuracy: 0.696556, val accuracy: 0.679000\n",
      "Train loss: 1.716709, val loss: 1.736079, train accuracy: 0.691556, val accuracy: 0.683000\n",
      "Train loss: 1.715924, val loss: 1.752914, train accuracy: 0.695222, val accuracy: 0.677000\n",
      "Train loss: 1.716043, val loss: 1.752117, train accuracy: 0.698111, val accuracy: 0.678000\n",
      "Train loss: 1.714629, val loss: 1.738065, train accuracy: 0.695333, val accuracy: 0.673000\n",
      "Train loss: 1.716055, val loss: 1.747298, train accuracy: 0.696778, val accuracy: 0.671000\n",
      "Train loss: 1.714115, val loss: 1.736447, train accuracy: 0.693111, val accuracy: 0.681000\n",
      "Train loss: 1.715124, val loss: 1.749113, train accuracy: 0.694778, val accuracy: 0.673000\n",
      "Train loss: 1.714155, val loss: 1.746090, train accuracy: 0.688556, val accuracy: 0.684000\n",
      "Train loss: 1.714728, val loss: 1.740348, train accuracy: 0.691111, val accuracy: 0.681000\n",
      "Train loss: 1.716473, val loss: 1.735528, train accuracy: 0.691778, val accuracy: 0.675000\n",
      "Train loss: 1.716870, val loss: 1.737245, train accuracy: 0.694667, val accuracy: 0.671000\n",
      "Train loss: 1.714990, val loss: 1.747765, train accuracy: 0.697000, val accuracy: 0.677000\n",
      "Train loss: 1.713601, val loss: 1.750924, train accuracy: 0.689556, val accuracy: 0.683000\n",
      "Train loss: 1.716310, val loss: 1.743895, train accuracy: 0.695667, val accuracy: 0.675000\n"
     ]
    }
   ],
   "source": [
    "dataset = Dataset(train_X, train_y, val_X, val_y)\n",
    "\n",
    "model = TwoLayerNet(n_input = train_X.shape[1], n_output = 10, hidden_layer_size = 100, reg = 0.01)\n",
    "trainer = Trainer(model, dataset, MomentumSGD(), learning_rate=1e-1, learning_rate_decay=0.99,\n",
    "                  num_epochs=200, batch_size=300)\n",
    "\n",
    "train_loss_history, val_loss_history, train_history, val_history = trainer.fit()"
   ]
  },
  {
   "cell_type": "code",
   "execution_count": 99,
   "metadata": {},
   "outputs": [
    {
     "data": {
      "text/plain": [
       "[<matplotlib.lines.Line2D at 0x7f4601514190>]"
      ]
     },
     "execution_count": 99,
     "metadata": {},
     "output_type": "execute_result"
    },
    {
     "data": {
      "image/png": "[encoded data removed]",
      "text/plain": [
       "<Figure size 432x288 with 1 Axes>"
      ]
     },
     "metadata": {
      "needs_background": "light"
     },
     "output_type": "display_data"
    }
   ],
   "source": [
    "plt.plot(train_loss_history)\n",
    "plt.plot(val_loss_history)"
   ]
  },
  {
   "cell_type": "code",
   "execution_count": 100,
   "metadata": {},
   "outputs": [
    {
     "data": {
      "text/plain": [
       "[<matplotlib.lines.Line2D at 0x7f4601544a10>]"
      ]
     },
     "execution_count": 100,
     "metadata": {},
     "output_type": "execute_result"
    },
    {
     "data": {
      "image/png": "[encoded data removed]",
      "text/plain": [
       "<Figure size 432x288 with 1 Axes>"
      ]
     },
     "metadata": {
      "needs_background": "light"
     },
     "output_type": "display_data"
    }
   ],
   "source": [
    "plt.plot(train_history)\n",
    "plt.plot(val_history)"
   ]
  },
  {
   "cell_type": "code",
   "execution_count": 101,
   "metadata": {},
   "outputs": [],
   "source": [
    "best_classifier = model\n",
    "best_val_accuracy = val_history[-1]"
   ]
  },
  {
   "cell_type": "markdown",
   "metadata": {},
   "source": [
    "# Как обычно, посмотрим, как наша лучшая модель работает на тестовых данных"
   ]
  },
  {
   "cell_type": "code",
   "execution_count": 102,
   "metadata": {},
   "outputs": [
    {
     "name": "stdout",
     "output_type": "stream",
     "text": [
      "Neural net test set accuracy: 0.649000\n"
     ]
    }
   ],
   "source": [
    "test_pred = best_classifier.predict(test_X)\n",
    "test_accuracy = multiclass_accuracy(test_pred, test_y)\n",
    "print('Neural net test set accuracy: %f' % (test_accuracy, ))"
   ]
  }
 ],
 "metadata": {
  "kernelspec": {
   "display_name": "Python 3",
   "language": "python",
   "name": "python3"
  },
  "language_info": {
   "codemirror_mode": {
    "name": "ipython",
    "version": 3
   },
   "file_extension": ".py",
   "mimetype": "text/x-python",
   "name": "python",
   "nbconvert_exporter": "python",
   "pygments_lexer": "ipython3",
   "version": "3.7.6"
  }
 },
 "nbformat": 4,
 "nbformat_minor": 2
}
