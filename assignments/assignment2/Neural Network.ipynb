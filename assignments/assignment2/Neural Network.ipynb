{
 "cells": [
  {
   "cell_type": "markdown",
   "metadata": {},
   "source": [
    "# Задание 2.1 - Нейронные сети\n",
    "\n",
    "В этом задании вы реализуете и натренируете настоящую нейроную сеть своими руками!\n",
    "\n",
    "В некотором смысле это будет расширением прошлого задания - нам нужно просто составить несколько линейных классификаторов вместе!\n",
    "\n",
    "<img src=\"https://i.redd.it/n9fgba8b0qr01.png\" alt=\"Stack_more_layers\" width=\"400px\"/>"
   ]
  },
  {
   "cell_type": "code",
   "execution_count": 1,
   "metadata": {},
   "outputs": [],
   "source": [
    "import numpy as np\n",
    "import matplotlib.pyplot as plt\n",
    "\n",
    "%matplotlib inline\n",
    "\n",
    "%load_ext autoreload\n",
    "%autoreload 2"
   ]
  },
  {
   "cell_type": "code",
   "execution_count": 2,
   "metadata": {},
   "outputs": [],
   "source": [
    "from dataset import load_svhn, random_split_train_val\n",
    "from gradient_check import check_layer_gradient, check_layer_param_gradient, check_model_gradient\n",
    "from layers import FullyConnectedLayer, ReLULayer\n",
    "from model import TwoLayerNet\n",
    "from trainer import Trainer, Dataset\n",
    "from optim import SGD, MomentumSGD\n",
    "from metrics import multiclass_accuracy"
   ]
  },
  {
   "cell_type": "markdown",
   "metadata": {},
   "source": [
    "# Загружаем данные\n",
    "\n",
    "И разделяем их на training и validation."
   ]
  },
  {
   "cell_type": "code",
   "execution_count": 3,
   "metadata": {},
   "outputs": [],
   "source": [
    "def prepare_for_neural_network(train_X, test_X):\n",
    "    train_flat = train_X.reshape(train_X.shape[0], -1).astype(np.float) / 255.0\n",
    "    test_flat = test_X.reshape(test_X.shape[0], -1).astype(np.float) / 255.0\n",
    "    \n",
    "    # Subtract mean\n",
    "    mean_image = np.mean(train_flat, axis = 0)\n",
    "    train_flat -= mean_image\n",
    "    test_flat -= mean_image\n",
    "    \n",
    "    return train_flat, test_flat\n",
    "    \n",
    "train_X, train_y, test_X, test_y = load_svhn(\"data\", max_train=10000, max_test=1000)    \n",
    "train_X, test_X = prepare_for_neural_network(train_X, test_X)\n",
    "# Split train into train and val\n",
    "train_X, train_y, val_X, val_y = random_split_train_val(train_X, train_y, num_val = 1000)"
   ]
  },
  {
   "cell_type": "markdown",
   "metadata": {},
   "source": [
    "# Как всегда, начинаем с кирпичиков\n",
    "\n",
    "Мы будем реализовывать необходимые нам слои по очереди. Каждый слой должен реализовать:\n",
    "- прямой проход (forward pass), который генерирует выход слоя по входу и запоминает необходимые данные\n",
    "- обратный проход (backward pass), который получает градиент по выходу слоя и вычисляет градиент по входу и по параметрам\n",
    "\n",
    "Начнем с ReLU, у которого параметров нет."
   ]
  },
  {
   "cell_type": "code",
   "execution_count": 4,
   "metadata": {
    "scrolled": false
   },
   "outputs": [
    {
     "name": "stdout",
     "output_type": "stream",
     "text": [
      "Gradient check passed!\n"
     ]
    }
   ],
   "source": [
    "# TODO: Implement ReLULayer layer in layers.py\n",
    "# Note: you'll need to copy implementation of the gradient_check function from the previous assignment\n",
    "\n",
    "X = np.array([[1,-2,3],\n",
    "              [-1, 2, 0.1]\n",
    "              ])\n",
    "\n",
    "assert check_layer_gradient(ReLULayer(), X)"
   ]
  },
  {
   "cell_type": "markdown",
   "metadata": {},
   "source": [
    "А теперь реализуем полносвязный слой (fully connected layer), у которого будет два массива параметров: W (weights) и B (bias).\n",
    "\n",
    "Все параметры наши слои будут использовать для параметров специальный класс `Param`, в котором будут храниться значения параметров и градиенты этих параметров, вычисляемые во время обратного прохода.\n",
    "\n",
    "Это даст возможность аккумулировать (суммировать) градиенты из разных частей функции потерь, например, из cross-entropy loss и regularization loss."
   ]
  },
  {
   "cell_type": "code",
   "execution_count": 5,
   "metadata": {},
   "outputs": [
    {
     "name": "stdout",
     "output_type": "stream",
     "text": [
      "Gradient check passed!\n",
      "Gradient check passed!\n",
      "Gradient check passed!\n"
     ]
    }
   ],
   "source": [
    "# TODO: Implement FullyConnected layer forward and backward methods\n",
    "assert check_layer_gradient(FullyConnectedLayer(3, 4), X)\n",
    "# TODO: Implement storing gradients for W and B\n",
    "assert check_layer_param_gradient(FullyConnectedLayer(3, 4), X, 'W')\n",
    "assert check_layer_param_gradient(FullyConnectedLayer(3, 4), X, 'B')"
   ]
  },
  {
   "cell_type": "markdown",
   "metadata": {},
   "source": [
    "## Создаем нейронную сеть\n",
    "\n",
    "Теперь мы реализуем простейшую нейронную сеть с двумя полносвязным слоями и нелинейностью ReLU. Реализуйте функцию `compute_loss_and_gradients`, она должна запустить прямой и обратный проход через оба слоя для вычисления градиентов.\n",
    "\n",
    "Не забудьте реализовать очистку градиентов в начале функции."
   ]
  },
  {
   "cell_type": "code",
   "execution_count": 22,
   "metadata": {},
   "outputs": [
    {
     "name": "stdout",
     "output_type": "stream",
     "text": [
      "Checking gradient for param_0\n",
      "Gradient check passed!\n",
      "Checking gradient for param_1\n",
      "Gradient check passed!\n",
      "Checking gradient for param_2\n",
      "Gradient check passed!\n",
      "Checking gradient for param_3\n",
      "Gradient check passed!\n"
     ]
    },
    {
     "data": {
      "text/plain": [
       "True"
      ]
     },
     "execution_count": 22,
     "metadata": {},
     "output_type": "execute_result"
    }
   ],
   "source": [
    "# TODO: In model.py, implement compute_loss_and_gradients function\n",
    "model = TwoLayerNet(n_input = train_X.shape[1], n_output = 10, hidden_layer_size = 3, reg = 0)\n",
    "loss = model.compute_loss_and_gradients(train_X[:2], train_y[:2])\n",
    "\n",
    "# TODO Now implement backward pass and aggregate all of the params\n",
    "check_model_gradient(model, train_X[:2], train_y[:2])"
   ]
  },
  {
   "cell_type": "markdown",
   "metadata": {},
   "source": [
    "Теперь добавьте к модели регуляризацию - она должна прибавляться к loss и делать свой вклад в градиенты."
   ]
  },
  {
   "cell_type": "code",
   "execution_count": 23,
   "metadata": {},
   "outputs": [
    {
     "name": "stdout",
     "output_type": "stream",
     "text": [
      "Checking gradient for param_0\n",
      "Gradient check passed!\n",
      "Checking gradient for param_1\n",
      "Gradient check passed!\n",
      "Checking gradient for param_2\n",
      "Gradient check passed!\n",
      "Checking gradient for param_3\n",
      "Gradient check passed!\n"
     ]
    },
    {
     "data": {
      "text/plain": [
       "True"
      ]
     },
     "execution_count": 23,
     "metadata": {},
     "output_type": "execute_result"
    }
   ],
   "source": [
    "# TODO Now implement l2 regularization in the forward and backward pass\n",
    "model_with_reg = TwoLayerNet(n_input = train_X.shape[1], n_output = 10, hidden_layer_size = 3, reg = 1e1)\n",
    "loss_with_reg = model_with_reg.compute_loss_and_gradients(train_X[:2], train_y[:2])\n",
    "assert loss_with_reg > loss and not np.isclose(loss_with_reg, loss), \\\n",
    "    \"Loss with regularization (%2.4f) should be higher than without it (%2.4f)!\" % (loss, loss_with_reg)\n",
    "\n",
    "check_model_gradient(model_with_reg, train_X[:2], train_y[:2])"
   ]
  },
  {
   "cell_type": "markdown",
   "metadata": {},
   "source": [
    "Также реализуем функцию предсказания (вычисления значения) модели на новых данных.\n",
    "\n",
    "Какое значение точности мы ожидаем увидеть до начала тренировки?"
   ]
  },
  {
   "cell_type": "code",
   "execution_count": 40,
   "metadata": {},
   "outputs": [
    {
     "data": {
      "text/plain": [
       "0.03333333333333333"
      ]
     },
     "execution_count": 40,
     "metadata": {},
     "output_type": "execute_result"
    }
   ],
   "source": [
    "# Finally, implement predict function!\n",
    "\n",
    "# TODO: Implement predict function\n",
    "# What would be the value we expect?\n",
    "multiclass_accuracy(model_with_reg.predict(train_X[:30]), train_y[:30]) "
   ]
  },
  {
   "cell_type": "markdown",
   "metadata": {},
   "source": [
    "# Допишем код для процесса тренировки\n",
    "\n",
    "Если все реализовано корректно, значение функции ошибки должно уменьшаться с каждой эпохой, пусть и медленно. Не беспокойтесь пока про validation accuracy."
   ]
  },
  {
   "cell_type": "code",
   "execution_count": 42,
   "metadata": {},
   "outputs": [
    {
     "name": "stdout",
     "output_type": "stream",
     "text": [
      "Loss: 2.321296, Train accuracy: 0.196667, val accuracy: 0.206000\n",
      "Loss: 2.302287, Train accuracy: 0.196667, val accuracy: 0.206000\n",
      "Loss: 2.302309, Train accuracy: 0.196667, val accuracy: 0.206000\n",
      "Loss: 2.302296, Train accuracy: 0.114222, val accuracy: 0.147000\n",
      "Loss: 2.302287, Train accuracy: 0.196667, val accuracy: 0.206000\n",
      "Loss: 2.302291, Train accuracy: 0.148222, val accuracy: 0.140000\n",
      "Loss: 2.302295, Train accuracy: 0.196667, val accuracy: 0.206000\n",
      "Loss: 2.302282, Train accuracy: 0.196667, val accuracy: 0.206000\n",
      "Loss: 2.302298, Train accuracy: 0.196667, val accuracy: 0.206000\n",
      "Loss: 2.302294, Train accuracy: 0.148222, val accuracy: 0.140000\n",
      "Loss: 2.302295, Train accuracy: 0.148222, val accuracy: 0.140000\n",
      "Loss: 2.302305, Train accuracy: 0.196667, val accuracy: 0.206000\n",
      "Loss: 2.302292, Train accuracy: 0.196667, val accuracy: 0.206000\n",
      "Loss: 2.302304, Train accuracy: 0.196667, val accuracy: 0.206000\n",
      "Loss: 2.302285, Train accuracy: 0.148222, val accuracy: 0.140000\n",
      "Loss: 2.302285, Train accuracy: 0.196667, val accuracy: 0.206000\n",
      "Loss: 2.302302, Train accuracy: 0.196667, val accuracy: 0.206000\n",
      "Loss: 2.302293, Train accuracy: 0.196667, val accuracy: 0.206000\n",
      "Loss: 2.302306, Train accuracy: 0.148222, val accuracy: 0.140000\n",
      "Loss: 2.302296, Train accuracy: 0.196667, val accuracy: 0.206000\n"
     ]
    }
   ],
   "source": [
    "model = TwoLayerNet(n_input = train_X.shape[1], n_output = 10, hidden_layer_size = 100, reg = 1e1)\n",
    "dataset = Dataset(train_X, train_y, val_X, val_y)\n",
    "trainer = Trainer(model, dataset, SGD(), learning_rate = 1e-2)\n",
    "\n",
    "# TODO Implement missing pieces in Trainer.fit function\n",
    "# You should expect loss to go down every epoch, even if it's slow\n",
    "loss_history, train_history, val_history = trainer.fit()"
   ]
  },
  {
   "cell_type": "markdown",
   "metadata": {},
   "source": [
    "# Улучшаем процесс тренировки\n",
    "\n",
    "Мы реализуем несколько ключевых оптимизаций, необходимых для тренировки современных нейросетей."
   ]
  },
  {
   "cell_type": "markdown",
   "metadata": {},
   "source": [
    "## Уменьшение скорости обучения (learning rate decay)\n",
    "\n",
    "Одна из необходимых оптимизаций во время тренировки нейронных сетей - постепенное уменьшение скорости обучения по мере тренировки.\n",
    "\n",
    "Один из стандартных методов - уменьшение скорости обучения (learning rate) каждые N эпох на коэффициент d (часто называемый decay). Значения N и d, как всегда, являются гиперпараметрами и должны подбираться на основе эффективности на проверочных данных (validation data). \n",
    "\n",
    "В нашем случае N будет равным 1."
   ]
  },
  {
   "cell_type": "code",
   "execution_count": 45,
   "metadata": {},
   "outputs": [
    {
     "name": "stdout",
     "output_type": "stream",
     "text": [
      "Loss: 2.298767, Train accuracy: 0.196667, val accuracy: 0.206000\n",
      "Loss: 2.278367, Train accuracy: 0.196667, val accuracy: 0.206000\n",
      "Loss: 2.275827, Train accuracy: 0.196667, val accuracy: 0.206000\n",
      "Loss: 2.275258, Train accuracy: 0.196667, val accuracy: 0.206000\n",
      "Loss: 2.274795, Train accuracy: 0.196667, val accuracy: 0.206000\n",
      "Loss: 2.274048, Train accuracy: 0.196667, val accuracy: 0.206000\n",
      "Loss: 2.273080, Train accuracy: 0.196667, val accuracy: 0.206000\n",
      "Loss: 2.272412, Train accuracy: 0.196667, val accuracy: 0.206000\n",
      "Loss: 2.271868, Train accuracy: 0.196667, val accuracy: 0.206000\n",
      "Loss: 2.271732, Train accuracy: 0.196667, val accuracy: 0.206000\n",
      "Loss: 2.271554, Train accuracy: 0.196667, val accuracy: 0.206000\n",
      "Loss: 2.271567, Train accuracy: 0.196667, val accuracy: 0.206000\n",
      "Loss: 2.271614, Train accuracy: 0.196667, val accuracy: 0.206000\n",
      "Loss: 2.271552, Train accuracy: 0.196667, val accuracy: 0.206000\n",
      "Loss: 2.271520, Train accuracy: 0.196667, val accuracy: 0.206000\n",
      "Loss: 2.271582, Train accuracy: 0.196667, val accuracy: 0.206000\n",
      "Loss: 2.271491, Train accuracy: 0.196667, val accuracy: 0.206000\n",
      "Loss: 2.271564, Train accuracy: 0.196667, val accuracy: 0.206000\n",
      "Loss: 2.271416, Train accuracy: 0.196667, val accuracy: 0.206000\n",
      "Loss: 2.271538, Train accuracy: 0.196667, val accuracy: 0.206000\n"
     ]
    }
   ],
   "source": [
    "# TODO Implement learning rate decay inside Trainer.fit method\n",
    "# Decay should happen once per epoch\n",
    "\n",
    "model = TwoLayerNet(n_input = train_X.shape[1], n_output = 10, hidden_layer_size = 100, reg = 1e-1)\n",
    "dataset = Dataset(train_X, train_y, val_X, val_y)\n",
    "trainer = Trainer(model, dataset, SGD(), learning_rate_decay=0.99)\n",
    "\n",
    "initial_learning_rate = trainer.learning_rate\n",
    "loss_history, train_history, val_history = trainer.fit()\n",
    "\n",
    "assert trainer.learning_rate < initial_learning_rate, \"Learning rate should've been reduced\"\n",
    "assert trainer.learning_rate > 0.5*initial_learning_rate, \"Learning rate shouldn'tve been reduced that much!\""
   ]
  },
  {
   "cell_type": "markdown",
   "metadata": {},
   "source": [
    "# Накопление импульса (Momentum SGD)\n",
    "\n",
    "Другой большой класс оптимизаций - использование более эффективных методов градиентного спуска. Мы реализуем один из них - накопление импульса (Momentum SGD).\n",
    "\n",
    "Этот метод хранит скорость движения, использует градиент для ее изменения на каждом шаге, и изменяет веса пропорционально значению скорости.\n",
    "(Физическая аналогия: Вместо скорости градиенты теперь будут задавать ускорение, но будет присутствовать сила трения.)\n",
    "\n",
    "```\n",
    "velocity = momentum * velocity - learning_rate * gradient \n",
    "w = w + velocity\n",
    "```\n",
    "\n",
    "`momentum` здесь коэффициент затухания, который тоже является гиперпараметром (к счастью, для него часто есть хорошее значение по умолчанию, типичный диапазон -- 0.8-0.99).\n",
    "\n",
    "Несколько полезных ссылок, где метод разбирается более подробно:  \n",
    "http://cs231n.github.io/neural-networks-3/#sgd  \n",
    "https://distill.pub/2017/momentum/"
   ]
  },
  {
   "cell_type": "code",
   "execution_count": 47,
   "metadata": {},
   "outputs": [
    {
     "name": "stdout",
     "output_type": "stream",
     "text": [
      "Loss: 2.327623, Train accuracy: 0.196667, val accuracy: 0.206000\n",
      "Loss: 2.317179, Train accuracy: 0.196667, val accuracy: 0.206000\n",
      "Loss: 2.308946, Train accuracy: 0.196667, val accuracy: 0.206000\n",
      "Loss: 2.302443, Train accuracy: 0.196667, val accuracy: 0.206000\n",
      "Loss: 2.297285, Train accuracy: 0.196667, val accuracy: 0.206000\n",
      "Loss: 2.293181, Train accuracy: 0.196667, val accuracy: 0.206000\n",
      "Loss: 2.289901, Train accuracy: 0.196667, val accuracy: 0.206000\n",
      "Loss: 2.287272, Train accuracy: 0.196667, val accuracy: 0.206000\n",
      "Loss: 2.285151, Train accuracy: 0.196667, val accuracy: 0.206000\n",
      "Loss: 2.283435, Train accuracy: 0.196667, val accuracy: 0.206000\n",
      "Loss: 2.282041, Train accuracy: 0.196667, val accuracy: 0.206000\n",
      "Loss: 2.280901, Train accuracy: 0.196667, val accuracy: 0.206000\n",
      "Loss: 2.279968, Train accuracy: 0.196667, val accuracy: 0.206000\n",
      "Loss: 2.279205, Train accuracy: 0.196667, val accuracy: 0.206000\n",
      "Loss: 2.278571, Train accuracy: 0.196667, val accuracy: 0.206000\n",
      "Loss: 2.278047, Train accuracy: 0.196667, val accuracy: 0.206000\n",
      "Loss: 2.277614, Train accuracy: 0.196667, val accuracy: 0.206000\n",
      "Loss: 2.277250, Train accuracy: 0.196667, val accuracy: 0.206000\n",
      "Loss: 2.276944, Train accuracy: 0.196667, val accuracy: 0.206000\n",
      "Loss: 2.276688, Train accuracy: 0.196667, val accuracy: 0.206000\n"
     ]
    }
   ],
   "source": [
    "# TODO: Implement MomentumSGD.update function in optim.py\n",
    "\n",
    "model = TwoLayerNet(n_input = train_X.shape[1], n_output = 10, hidden_layer_size = 100, reg = 1e-1)\n",
    "dataset = Dataset(train_X, train_y, val_X, val_y)\n",
    "trainer = Trainer(model, dataset, MomentumSGD(), learning_rate=1e-4, learning_rate_decay=0.99)\n",
    "\n",
    "# You should see even better results than before!\n",
    "loss_history, train_history, val_history = trainer.fit()"
   ]
  },
  {
   "cell_type": "markdown",
   "metadata": {},
   "source": [
    "# Ну что, давайте уже тренировать сеть!"
   ]
  },
  {
   "cell_type": "markdown",
   "metadata": {},
   "source": [
    "## Последний тест - переобучимся (overfit) на маленьком наборе данных\n",
    "\n",
    "Хороший способ проверить, все ли реализовано корректно - переобучить сеть на маленьком наборе данных.  \n",
    "Наша модель обладает достаточной мощностью, чтобы приблизить маленький набор данных идеально, поэтому мы ожидаем, что на нем мы быстро дойдем до 100% точности на тренировочном наборе. \n",
    "\n",
    "Если этого не происходит, то где-то была допущена ошибка!"
   ]
  },
  {
   "cell_type": "code",
   "execution_count": 48,
   "metadata": {},
   "outputs": [
    {
     "name": "stdout",
     "output_type": "stream",
     "text": [
      "Loss: 2.333185, Train accuracy: 0.200000, val accuracy: 0.066667\n",
      "Loss: 2.321131, Train accuracy: 0.266667, val accuracy: 0.066667\n",
      "Loss: 2.309615, Train accuracy: 0.266667, val accuracy: 0.066667\n",
      "Loss: 2.302288, Train accuracy: 0.333333, val accuracy: 0.066667\n",
      "Loss: 2.289684, Train accuracy: 0.266667, val accuracy: 0.000000\n",
      "Loss: 2.277549, Train accuracy: 0.266667, val accuracy: 0.000000\n",
      "Loss: 2.265176, Train accuracy: 0.266667, val accuracy: 0.000000\n",
      "Loss: 2.244047, Train accuracy: 0.266667, val accuracy: 0.000000\n",
      "Loss: 2.214660, Train accuracy: 0.400000, val accuracy: 0.000000\n",
      "Loss: 2.144939, Train accuracy: 0.400000, val accuracy: 0.000000\n",
      "Loss: 2.078462, Train accuracy: 0.400000, val accuracy: 0.000000\n",
      "Loss: 2.030650, Train accuracy: 0.400000, val accuracy: 0.000000\n",
      "Loss: 1.972499, Train accuracy: 0.400000, val accuracy: 0.000000\n",
      "Loss: 1.898704, Train accuracy: 0.333333, val accuracy: 0.000000\n",
      "Loss: 1.883187, Train accuracy: 0.400000, val accuracy: 0.000000\n",
      "Loss: 1.853652, Train accuracy: 0.400000, val accuracy: 0.000000\n",
      "Loss: 1.805609, Train accuracy: 0.400000, val accuracy: 0.000000\n",
      "Loss: 1.802620, Train accuracy: 0.400000, val accuracy: 0.000000\n",
      "Loss: 1.796832, Train accuracy: 0.400000, val accuracy: 0.000000\n",
      "Loss: 1.802787, Train accuracy: 0.466667, val accuracy: 0.066667\n",
      "Loss: 1.806147, Train accuracy: 0.400000, val accuracy: 0.066667\n",
      "Loss: 1.802753, Train accuracy: 0.466667, val accuracy: 0.000000\n",
      "Loss: 1.773979, Train accuracy: 0.466667, val accuracy: 0.000000\n",
      "Loss: 1.771388, Train accuracy: 0.466667, val accuracy: 0.066667\n",
      "Loss: 1.751491, Train accuracy: 0.466667, val accuracy: 0.066667\n",
      "Loss: 1.740650, Train accuracy: 0.400000, val accuracy: 0.066667\n",
      "Loss: 1.764873, Train accuracy: 0.466667, val accuracy: 0.000000\n",
      "Loss: 1.765348, Train accuracy: 0.466667, val accuracy: 0.000000\n",
      "Loss: 1.723768, Train accuracy: 0.466667, val accuracy: 0.000000\n",
      "Loss: 1.713733, Train accuracy: 0.466667, val accuracy: 0.000000\n",
      "Loss: 1.703159, Train accuracy: 0.466667, val accuracy: 0.000000\n",
      "Loss: 1.654797, Train accuracy: 0.466667, val accuracy: 0.000000\n",
      "Loss: 1.643122, Train accuracy: 0.666667, val accuracy: 0.066667\n",
      "Loss: 1.623959, Train accuracy: 0.666667, val accuracy: 0.066667\n",
      "Loss: 1.621664, Train accuracy: 0.666667, val accuracy: 0.066667\n",
      "Loss: 1.585880, Train accuracy: 0.600000, val accuracy: 0.066667\n",
      "Loss: 1.611254, Train accuracy: 0.666667, val accuracy: 0.066667\n",
      "Loss: 1.596192, Train accuracy: 0.666667, val accuracy: 0.066667\n",
      "Loss: 1.591563, Train accuracy: 0.666667, val accuracy: 0.066667\n",
      "Loss: 1.590447, Train accuracy: 0.666667, val accuracy: 0.000000\n",
      "Loss: 1.519957, Train accuracy: 0.666667, val accuracy: 0.066667\n",
      "Loss: 1.533846, Train accuracy: 0.733333, val accuracy: 0.066667\n",
      "Loss: 1.496478, Train accuracy: 0.666667, val accuracy: 0.066667\n",
      "Loss: 1.520633, Train accuracy: 0.666667, val accuracy: 0.000000\n",
      "Loss: 1.492708, Train accuracy: 0.800000, val accuracy: 0.066667\n",
      "Loss: 1.475518, Train accuracy: 0.733333, val accuracy: 0.066667\n",
      "Loss: 1.464619, Train accuracy: 0.733333, val accuracy: 0.066667\n",
      "Loss: 1.434418, Train accuracy: 0.733333, val accuracy: 0.066667\n",
      "Loss: 1.436341, Train accuracy: 0.733333, val accuracy: 0.066667\n",
      "Loss: 1.421670, Train accuracy: 0.733333, val accuracy: 0.066667\n",
      "Loss: 1.417473, Train accuracy: 0.733333, val accuracy: 0.133333\n",
      "Loss: 1.416258, Train accuracy: 0.733333, val accuracy: 0.066667\n",
      "Loss: 1.417713, Train accuracy: 0.733333, val accuracy: 0.066667\n",
      "Loss: 1.421802, Train accuracy: 0.733333, val accuracy: 0.000000\n",
      "Loss: 1.399504, Train accuracy: 0.733333, val accuracy: 0.066667\n",
      "Loss: 1.416853, Train accuracy: 0.733333, val accuracy: 0.066667\n",
      "Loss: 1.403044, Train accuracy: 0.733333, val accuracy: 0.066667\n",
      "Loss: 1.378030, Train accuracy: 0.733333, val accuracy: 0.066667\n",
      "Loss: 1.382125, Train accuracy: 0.733333, val accuracy: 0.066667\n",
      "Loss: 1.414638, Train accuracy: 0.733333, val accuracy: 0.066667\n",
      "Loss: 1.382794, Train accuracy: 0.733333, val accuracy: 0.066667\n",
      "Loss: 1.400905, Train accuracy: 0.733333, val accuracy: 0.066667\n",
      "Loss: 1.377253, Train accuracy: 0.733333, val accuracy: 0.066667\n",
      "Loss: 1.376103, Train accuracy: 0.733333, val accuracy: 0.066667\n",
      "Loss: 1.377951, Train accuracy: 0.733333, val accuracy: 0.066667\n",
      "Loss: 1.366980, Train accuracy: 0.733333, val accuracy: 0.066667\n",
      "Loss: 1.359657, Train accuracy: 0.733333, val accuracy: 0.066667\n",
      "Loss: 1.371951, Train accuracy: 0.733333, val accuracy: 0.066667\n",
      "Loss: 1.366377, Train accuracy: 0.733333, val accuracy: 0.066667\n",
      "Loss: 1.373581, Train accuracy: 0.733333, val accuracy: 0.066667\n",
      "Loss: 1.382708, Train accuracy: 0.733333, val accuracy: 0.066667\n",
      "Loss: 1.393671, Train accuracy: 0.733333, val accuracy: 0.066667\n",
      "Loss: 1.393773, Train accuracy: 0.800000, val accuracy: 0.066667\n",
      "Loss: 1.363070, Train accuracy: 0.800000, val accuracy: 0.066667\n",
      "Loss: 1.365872, Train accuracy: 0.800000, val accuracy: 0.066667\n",
      "Loss: 1.351731, Train accuracy: 0.800000, val accuracy: 0.066667\n",
      "Loss: 1.362317, Train accuracy: 0.933333, val accuracy: 0.066667\n",
      "Loss: 1.348325, Train accuracy: 0.866667, val accuracy: 0.066667\n",
      "Loss: 1.352235, Train accuracy: 0.933333, val accuracy: 0.066667\n",
      "Loss: 1.355080, Train accuracy: 0.933333, val accuracy: 0.066667\n",
      "Loss: 1.348986, Train accuracy: 0.933333, val accuracy: 0.066667\n",
      "Loss: 1.343236, Train accuracy: 0.933333, val accuracy: 0.066667\n",
      "Loss: 1.351831, Train accuracy: 0.933333, val accuracy: 0.066667\n",
      "Loss: 1.340553, Train accuracy: 0.933333, val accuracy: 0.066667\n",
      "Loss: 1.368468, Train accuracy: 0.933333, val accuracy: 0.066667\n",
      "Loss: 1.360927, Train accuracy: 0.933333, val accuracy: 0.066667\n",
      "Loss: 1.349890, Train accuracy: 0.933333, val accuracy: 0.066667\n",
      "Loss: 1.355845, Train accuracy: 0.933333, val accuracy: 0.066667\n",
      "Loss: 1.336665, Train accuracy: 0.933333, val accuracy: 0.066667\n",
      "Loss: 1.314775, Train accuracy: 0.933333, val accuracy: 0.066667\n",
      "Loss: 1.324046, Train accuracy: 0.933333, val accuracy: 0.066667\n",
      "Loss: 1.315039, Train accuracy: 0.933333, val accuracy: 0.000000\n",
      "Loss: 1.318284, Train accuracy: 0.933333, val accuracy: 0.000000\n",
      "Loss: 1.342270, Train accuracy: 0.933333, val accuracy: 0.000000\n",
      "Loss: 1.323468, Train accuracy: 0.933333, val accuracy: 0.000000\n",
      "Loss: 1.300722, Train accuracy: 0.933333, val accuracy: 0.000000\n",
      "Loss: 1.308265, Train accuracy: 0.933333, val accuracy: 0.000000\n",
      "Loss: 1.323190, Train accuracy: 0.933333, val accuracy: 0.000000\n",
      "Loss: 1.312791, Train accuracy: 0.933333, val accuracy: 0.000000\n",
      "Loss: 1.299737, Train accuracy: 0.933333, val accuracy: 0.000000\n",
      "Loss: 1.292329, Train accuracy: 0.933333, val accuracy: 0.000000\n",
      "Loss: 1.321133, Train accuracy: 0.933333, val accuracy: 0.000000\n",
      "Loss: 1.293394, Train accuracy: 0.933333, val accuracy: 0.000000\n",
      "Loss: 1.299737, Train accuracy: 0.933333, val accuracy: 0.000000\n",
      "Loss: 1.289965, Train accuracy: 0.933333, val accuracy: 0.000000\n",
      "Loss: 1.286537, Train accuracy: 0.933333, val accuracy: 0.000000\n",
      "Loss: 1.295410, Train accuracy: 0.933333, val accuracy: 0.000000\n",
      "Loss: 1.281795, Train accuracy: 0.933333, val accuracy: 0.000000\n",
      "Loss: 1.278691, Train accuracy: 0.933333, val accuracy: 0.000000\n",
      "Loss: 1.276420, Train accuracy: 0.933333, val accuracy: 0.000000\n",
      "Loss: 1.283379, Train accuracy: 0.933333, val accuracy: 0.000000\n",
      "Loss: 1.270669, Train accuracy: 0.933333, val accuracy: 0.000000\n",
      "Loss: 1.284524, Train accuracy: 0.933333, val accuracy: 0.000000\n",
      "Loss: 1.291953, Train accuracy: 0.933333, val accuracy: 0.000000\n",
      "Loss: 1.269233, Train accuracy: 1.000000, val accuracy: 0.000000\n",
      "Loss: 1.293862, Train accuracy: 1.000000, val accuracy: 0.000000\n",
      "Loss: 1.275364, Train accuracy: 1.000000, val accuracy: 0.000000\n",
      "Loss: 1.272855, Train accuracy: 1.000000, val accuracy: 0.000000\n",
      "Loss: 1.264019, Train accuracy: 1.000000, val accuracy: 0.000000\n",
      "Loss: 1.273228, Train accuracy: 1.000000, val accuracy: 0.000000\n",
      "Loss: 1.270534, Train accuracy: 1.000000, val accuracy: 0.000000\n",
      "Loss: 1.250816, Train accuracy: 1.000000, val accuracy: 0.000000\n",
      "Loss: 1.275165, Train accuracy: 1.000000, val accuracy: 0.000000\n",
      "Loss: 1.281775, Train accuracy: 1.000000, val accuracy: 0.000000\n",
      "Loss: 1.274400, Train accuracy: 1.000000, val accuracy: 0.000000\n",
      "Loss: 1.284967, Train accuracy: 1.000000, val accuracy: 0.000000\n",
      "Loss: 1.263617, Train accuracy: 1.000000, val accuracy: 0.000000\n",
      "Loss: 1.280321, Train accuracy: 1.000000, val accuracy: 0.000000\n",
      "Loss: 1.251783, Train accuracy: 1.000000, val accuracy: 0.000000\n",
      "Loss: 1.256686, Train accuracy: 1.000000, val accuracy: 0.000000\n",
      "Loss: 1.269847, Train accuracy: 1.000000, val accuracy: 0.000000\n",
      "Loss: 1.262675, Train accuracy: 1.000000, val accuracy: 0.000000\n",
      "Loss: 1.253482, Train accuracy: 1.000000, val accuracy: 0.000000\n",
      "Loss: 1.259824, Train accuracy: 1.000000, val accuracy: 0.000000\n",
      "Loss: 1.275360, Train accuracy: 1.000000, val accuracy: 0.000000\n",
      "Loss: 1.268775, Train accuracy: 1.000000, val accuracy: 0.000000\n",
      "Loss: 1.261295, Train accuracy: 1.000000, val accuracy: 0.000000\n",
      "Loss: 1.270226, Train accuracy: 1.000000, val accuracy: 0.000000\n"
     ]
    },
    {
     "name": "stdout",
     "output_type": "stream",
     "text": [
      "Loss: 1.258000, Train accuracy: 1.000000, val accuracy: 0.000000\n",
      "Loss: 1.242129, Train accuracy: 1.000000, val accuracy: 0.000000\n",
      "Loss: 1.244655, Train accuracy: 1.000000, val accuracy: 0.000000\n",
      "Loss: 1.248644, Train accuracy: 1.000000, val accuracy: 0.000000\n",
      "Loss: 1.248025, Train accuracy: 1.000000, val accuracy: 0.000000\n",
      "Loss: 1.257787, Train accuracy: 1.000000, val accuracy: 0.000000\n",
      "Loss: 1.265747, Train accuracy: 1.000000, val accuracy: 0.000000\n",
      "Loss: 1.273436, Train accuracy: 1.000000, val accuracy: 0.000000\n",
      "Loss: 1.263657, Train accuracy: 1.000000, val accuracy: 0.000000\n",
      "Loss: 1.249640, Train accuracy: 1.000000, val accuracy: 0.000000\n",
      "Loss: 1.255827, Train accuracy: 1.000000, val accuracy: 0.000000\n",
      "Loss: 1.261365, Train accuracy: 1.000000, val accuracy: 0.000000\n"
     ]
    }
   ],
   "source": [
    "data_size = 15\n",
    "model = TwoLayerNet(n_input = train_X.shape[1], n_output = 10, hidden_layer_size = 100, reg = 1e-1)\n",
    "dataset = Dataset(train_X[:data_size], train_y[:data_size], val_X[:data_size], val_y[:data_size])\n",
    "trainer = Trainer(model, dataset, SGD(), learning_rate=1e-1, num_epochs=150, batch_size=5)\n",
    "\n",
    "# You should expect this to reach 1.0 training accuracy \n",
    "loss_history, train_history, val_history = trainer.fit()"
   ]
  },
  {
   "cell_type": "markdown",
   "metadata": {},
   "source": [
    "Теперь найдем гипепараметры, для которых этот процесс сходится быстрее.\n",
    "Если все реализовано корректно, то существуют параметры, при которых процесс сходится в **20** эпох или еще быстрее.\n",
    "Найдите их!"
   ]
  },
  {
   "cell_type": "code",
   "execution_count": 107,
   "metadata": {},
   "outputs": [
    {
     "name": "stdout",
     "output_type": "stream",
     "text": [
      "Loss: 2.303352, Train accuracy: 0.200000, val accuracy: 0.066667\n",
      "Loss: 2.283800, Train accuracy: 0.266667, val accuracy: 0.000000\n",
      "Loss: 2.248107, Train accuracy: 0.266667, val accuracy: 0.000000\n",
      "Loss: 2.187479, Train accuracy: 0.333333, val accuracy: 0.000000\n",
      "Loss: 2.036930, Train accuracy: 0.400000, val accuracy: 0.000000\n",
      "Loss: 1.796584, Train accuracy: 0.466667, val accuracy: 0.000000\n",
      "Loss: 1.568374, Train accuracy: 0.533333, val accuracy: 0.000000\n",
      "Loss: 1.411622, Train accuracy: 0.400000, val accuracy: 0.133333\n",
      "Loss: 1.934208, Train accuracy: 0.600000, val accuracy: 0.000000\n",
      "Loss: 1.428324, Train accuracy: 0.600000, val accuracy: 0.000000\n",
      "Loss: 0.943366, Train accuracy: 0.666667, val accuracy: 0.000000\n",
      "Loss: 0.940091, Train accuracy: 0.866667, val accuracy: 0.066667\n",
      "Loss: 0.454389, Train accuracy: 0.933333, val accuracy: 0.066667\n",
      "Loss: 0.416284, Train accuracy: 1.000000, val accuracy: 0.066667\n",
      "Loss: 0.123907, Train accuracy: 0.933333, val accuracy: 0.133333\n",
      "Loss: 0.212486, Train accuracy: 1.000000, val accuracy: 0.066667\n",
      "Loss: 0.114617, Train accuracy: 1.000000, val accuracy: 0.066667\n",
      "Loss: 0.132054, Train accuracy: 1.000000, val accuracy: 0.066667\n",
      "Loss: 0.155102, Train accuracy: 1.000000, val accuracy: 0.066667\n",
      "Loss: 0.160498, Train accuracy: 1.000000, val accuracy: 0.066667\n"
     ]
    }
   ],
   "source": [
    "# Now, tweak some hyper parameters and make it train to 1.0 accuracy in 20 epochs or less\n",
    "\n",
    "model = TwoLayerNet(n_input = train_X.shape[1], n_output = 10, hidden_layer_size = 300, reg = 1e-3)\n",
    "dataset = Dataset(train_X[:data_size], train_y[:data_size], val_X[:data_size], val_y[:data_size])\n",
    "trainer = Trainer(model, dataset, MomentumSGD(), learning_rate=5e-1, num_epochs=20, batch_size=30)\n",
    "\n",
    "loss_history, train_history, val_history = trainer.fit()"
   ]
  },
  {
   "cell_type": "markdown",
   "metadata": {},
   "source": [
    "# Итак, основное мероприятие!\n",
    "\n",
    "Натренируйте лучшую нейросеть! Можно добавлять и изменять параметры, менять количество нейронов в слоях сети и как угодно экспериментировать. \n",
    "\n",
    "Добейтесь точности лучше **60%** на validation set."
   ]
  },
  {
   "cell_type": "code",
   "execution_count": 111,
   "metadata": {
    "scrolled": true
   },
   "outputs": [
    {
     "name": "stdout",
     "output_type": "stream",
     "text": [
      "Loss: 2.303546, Train accuracy: 0.333333, val accuracy: 0.000000\n",
      "Loss: 2.283901, Train accuracy: 0.266667, val accuracy: 0.000000\n",
      "Loss: 2.247534, Train accuracy: 0.266667, val accuracy: 0.000000\n",
      "Loss: 2.182698, Train accuracy: 0.266667, val accuracy: 0.000000\n",
      "Loss: 2.017151, Train accuracy: 0.400000, val accuracy: 0.000000\n",
      "Loss: 1.822291, Train accuracy: 0.400000, val accuracy: 0.000000\n",
      "Loss: 1.601254, Train accuracy: 0.466667, val accuracy: 0.000000\n",
      "Loss: 1.539838, Train accuracy: 0.400000, val accuracy: 0.133333\n",
      "Loss: 1.666967, Train accuracy: 0.533333, val accuracy: 0.000000\n",
      "Loss: 1.493501, Train accuracy: 0.600000, val accuracy: 0.000000\n",
      "Loss: 1.293811, Train accuracy: 0.666667, val accuracy: 0.066667\n",
      "Loss: 0.895603, Train accuracy: 0.933333, val accuracy: 0.000000\n",
      "Loss: 0.502814, Train accuracy: 0.866667, val accuracy: 0.000000\n",
      "Loss: 0.326650, Train accuracy: 0.933333, val accuracy: 0.000000\n",
      "Loss: 0.242605, Train accuracy: 0.933333, val accuracy: 0.000000\n",
      "Loss: 0.184793, Train accuracy: 1.000000, val accuracy: 0.066667\n",
      "Loss: 0.132079, Train accuracy: 1.000000, val accuracy: 0.066667\n",
      "Loss: 0.129781, Train accuracy: 1.000000, val accuracy: 0.066667\n",
      "Loss: 0.145528, Train accuracy: 1.000000, val accuracy: 0.000000\n",
      "Loss: 0.161207, Train accuracy: 1.000000, val accuracy: 0.000000\n"
     ]
    },
    {
     "ename": "TypeError",
     "evalue": "must be real number, not NoneType",
     "output_type": "error",
     "traceback": [
      "\u001b[0;31m---------------------------------------------------------------------------\u001b[0m",
      "\u001b[0;31mTypeError\u001b[0m                                 Traceback (most recent call last)",
      "\u001b[0;32m<ipython-input-111-3a02a99da503>\u001b[0m in \u001b[0;36m<module>\u001b[0;34m\u001b[0m\n\u001b[1;32m     21\u001b[0m \u001b[0mloss_history\u001b[0m\u001b[0;34m,\u001b[0m \u001b[0mtrain_history\u001b[0m\u001b[0;34m,\u001b[0m \u001b[0mval_history\u001b[0m \u001b[0;34m=\u001b[0m \u001b[0mtrainer\u001b[0m\u001b[0;34m.\u001b[0m\u001b[0mfit\u001b[0m\u001b[0;34m(\u001b[0m\u001b[0;34m)\u001b[0m\u001b[0;34m\u001b[0m\u001b[0;34m\u001b[0m\u001b[0m\n\u001b[1;32m     22\u001b[0m \u001b[0;34m\u001b[0m\u001b[0m\n\u001b[0;32m---> 23\u001b[0;31m \u001b[0mprint\u001b[0m\u001b[0;34m(\u001b[0m\u001b[0;34m'best validation accuracy achieved: %f'\u001b[0m \u001b[0;34m%\u001b[0m \u001b[0mbest_val_accuracy\u001b[0m\u001b[0;34m)\u001b[0m\u001b[0;34m\u001b[0m\u001b[0;34m\u001b[0m\u001b[0m\n\u001b[0m",
      "\u001b[0;31mTypeError\u001b[0m: must be real number, not NoneType"
     ]
    }
   ],
   "source": [
    "# Let's train the best one-hidden-layer network we can\n",
    "\n",
    "learning_rates = [1e-4]\n",
    "reg_strength = [1e-3]\n",
    "learning_rate_decay = 0.999\n",
    "hidden_layer_size = 128\n",
    "num_epochs = 200\n",
    "batch_size = 64\n",
    "\n",
    "best_classifier = None\n",
    "best_val_accuracy = None\n",
    "\n",
    "loss_history = []\n",
    "train_history = []\n",
    "val_history = []\n",
    "\n",
    "model = TwoLayerNet(n_input = train_X.shape[1], n_output = 10, hidden_layer_size = 300, reg = 1e-3)\n",
    "trainer = Trainer(model, dataset, MomentumSGD(), learning_rate=5e-1, num_epochs=20, batch_size=30)\n",
    "\n",
    "loss_history, train_history, val_history = trainer.fit()\n",
    "\n",
    "print('best validation accuracy achieved: %f' % best_val_accuracy)"
   ]
  },
  {
   "cell_type": "code",
   "execution_count": 109,
   "metadata": {},
   "outputs": [
    {
     "data": {
      "text/plain": [
       "[<matplotlib.lines.Line2D at 0x7fb56f7e3110>]"
      ]
     },
     "execution_count": 109,
     "metadata": {},
     "output_type": "execute_result"
    },
    {
     "data": {
      "image/png": "[encoded data removed]",
      "text/plain": [
       "<Figure size 1080x504 with 2 Axes>"
      ]
     },
     "metadata": {
      "needs_background": "light"
     },
     "output_type": "display_data"
    }
   ],
   "source": [
    "plt.figure(figsize=(15, 7))\n",
    "plt.subplot(211)\n",
    "plt.title(\"Loss\")\n",
    "plt.plot(loss_history)\n",
    "plt.subplot(212)\n",
    "plt.title(\"Train/validation accuracy\")\n",
    "plt.plot(train_history)\n",
    "plt.plot(val_history)"
   ]
  },
  {
   "cell_type": "markdown",
   "metadata": {},
   "source": [
    "# Как обычно, посмотрим, как наша лучшая модель работает на тестовых данных"
   ]
  },
  {
   "cell_type": "code",
   "execution_count": 110,
   "metadata": {},
   "outputs": [
    {
     "ename": "AttributeError",
     "evalue": "'NoneType' object has no attribute 'predict'",
     "output_type": "error",
     "traceback": [
      "\u001b[0;31m---------------------------------------------------------------------------\u001b[0m",
      "\u001b[0;31mAttributeError\u001b[0m                            Traceback (most recent call last)",
      "\u001b[0;32m<ipython-input-110-83c278478367>\u001b[0m in \u001b[0;36m<module>\u001b[0;34m\u001b[0m\n\u001b[0;32m----> 1\u001b[0;31m \u001b[0mtest_pred\u001b[0m \u001b[0;34m=\u001b[0m \u001b[0mbest_classifier\u001b[0m\u001b[0;34m.\u001b[0m\u001b[0mpredict\u001b[0m\u001b[0;34m(\u001b[0m\u001b[0mtest_X\u001b[0m\u001b[0;34m)\u001b[0m\u001b[0;34m\u001b[0m\u001b[0;34m\u001b[0m\u001b[0m\n\u001b[0m\u001b[1;32m      2\u001b[0m \u001b[0mtest_accuracy\u001b[0m \u001b[0;34m=\u001b[0m \u001b[0mmulticlass_accuracy\u001b[0m\u001b[0;34m(\u001b[0m\u001b[0mtest_pred\u001b[0m\u001b[0;34m,\u001b[0m \u001b[0mtest_y\u001b[0m\u001b[0;34m)\u001b[0m\u001b[0;34m\u001b[0m\u001b[0;34m\u001b[0m\u001b[0m\n\u001b[1;32m      3\u001b[0m \u001b[0mprint\u001b[0m\u001b[0;34m(\u001b[0m\u001b[0;34m'Neural net test set accuracy: %f'\u001b[0m \u001b[0;34m%\u001b[0m \u001b[0;34m(\u001b[0m\u001b[0mtest_accuracy\u001b[0m\u001b[0;34m,\u001b[0m \u001b[0;34m)\u001b[0m\u001b[0;34m)\u001b[0m\u001b[0;34m\u001b[0m\u001b[0;34m\u001b[0m\u001b[0m\n",
      "\u001b[0;31mAttributeError\u001b[0m: 'NoneType' object has no attribute 'predict'"
     ]
    }
   ],
   "source": [
    "test_pred = best_classifier.predict(test_X)\n",
    "test_accuracy = multiclass_accuracy(test_pred, test_y)\n",
    "print('Neural net test set accuracy: %f' % (test_accuracy, ))"
   ]
  },
  {
   "cell_type": "code",
   "execution_count": null,
   "metadata": {},
   "outputs": [],
   "source": []
  }
 ],
 "metadata": {
  "kernelspec": {
   "display_name": "Python 3",
   "language": "python",
   "name": "python3"
  },
  "language_info": {
   "codemirror_mode": {
    "name": "ipython",
    "version": 3
   },
   "file_extension": ".py",
   "mimetype": "text/x-python",
   "name": "python",
   "nbconvert_exporter": "python",
   "pygments_lexer": "ipython3",
   "version": "3.7.6"
  }
 },
 "nbformat": 4,
 "nbformat_minor": 2
}
