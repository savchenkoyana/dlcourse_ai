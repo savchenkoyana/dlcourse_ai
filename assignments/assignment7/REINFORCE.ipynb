{
 "cells": [
  {
   "cell_type": "markdown",
   "metadata": {
    "colab_type": "text",
    "id": "AbwmoJusmueU"
   },
   "source": [
    "# Reinforcement Learning"
   ]
  },
  {
   "cell_type": "markdown",
   "metadata": {
    "colab_type": "text",
    "id": "7xcuGNp-mueX"
   },
   "source": [
    "В этом задании постараемся разобраться в проблеме обучения с подкреплением, реализуем алгоритм REINFORCE и научим агента с помощью этого алгоритма играть в игру Cartpole."
   ]
  },
  {
   "cell_type": "markdown",
   "metadata": {
    "colab_type": "text",
    "id": "4HoHMD_GmueZ"
   },
   "source": [
    "Установим и импортируем необходимые библиотеки, а также вспомогательные функции для визуализации игры агента."
   ]
  },
  {
   "cell_type": "code",
   "execution_count": 1,
   "metadata": {
    "colab": {},
    "colab_type": "code",
    "id": "kHKfskxa7kaI"
   },
   "outputs": [],
   "source": [
    "#!pip install gym pandas torch matplotlib pyvirtualdisplay > /dev/null 2>&1\n",
    "#!apt-get install -y xvfb python-opengl ffmpeg x11-utils > /dev/null 2>&1"
   ]
  },
  {
   "cell_type": "code",
   "execution_count": 2,
   "metadata": {},
   "outputs": [],
   "source": [
    "get_ipython().magic(u'matplotlib inline')"
   ]
  },
  {
   "cell_type": "code",
   "execution_count": 3,
   "metadata": {
    "colab": {},
    "colab_type": "code",
    "id": "WiX0JVM3z0Ru"
   },
   "outputs": [],
   "source": [
    "from IPython.display import clear_output, HTML\n",
    "from IPython import display as ipythondisplay\n",
    "import matplotlib.pyplot as plt\n",
    "%matplotlib inline"
   ]
  },
  {
   "cell_type": "code",
   "execution_count": 4,
   "metadata": {
    "colab": {},
    "colab_type": "code",
    "id": "IsjSHknYl1rj"
   },
   "outputs": [],
   "source": [
    "import numpy as np\n",
    "import glob\n",
    "import time\n",
    "import io\n",
    "import base64\n",
    "import gym\n",
    "from gym.wrappers import Monitor\n",
    "import torch\n",
    "import collections\n",
    "import pandas as pd\n",
    "from torch import nn\n",
    "from torch.optim import Adam\n",
    "from torch.distributions import Categorical"
   ]
  },
  {
   "cell_type": "code",
   "execution_count": 5,
   "metadata": {
    "colab": {},
    "colab_type": "code",
    "id": "b5KfVGq1n_8s"
   },
   "outputs": [
    {
     "data": {
      "text/plain": [
       "<pyvirtualdisplay.display.Display at 0x7f1d32891150>"
      ]
     },
     "execution_count": 5,
     "metadata": {},
     "output_type": "execute_result"
    }
   ],
   "source": [
    "from pyvirtualdisplay import Display\n",
    "display = Display(visible=0, size=(1400, 900))\n",
    "display.start()"
   ]
  },
  {
   "cell_type": "code",
   "execution_count": 6,
   "metadata": {
    "colab": {},
    "colab_type": "code",
    "id": "4xGh4QxDnlFw"
   },
   "outputs": [],
   "source": [
    "\"\"\"\n",
    "Utility functions to enable video recording of gym environment and displaying it\n",
    "To enable video, just do \"env = wrap_env(env)\"\"\n",
    "\"\"\"\n",
    "\n",
    "def show_video():\n",
    "    mp4list = glob.glob('video/*.mp4')\n",
    "    if len(mp4list) > 0:\n",
    "        mp4 = mp4list[0]\n",
    "        video = io.open(mp4, 'r+b').read()\n",
    "        encoded = base64.b64encode(video)\n",
    "        ipythondisplay.display(HTML(data='''<video alt=\"test\" autoplay \n",
    "                loop controls style=\"height: 400px;\">\n",
    "                <source src=\"data:video/mp4;base64,{0}\" type=\"video/mp4\" />\n",
    "             </video>'''.format(encoded.decode('ascii'))))\n",
    "    else: \n",
    "        print(\"Could not find video\")\n",
    "    \n",
    "\n",
    "def wrap_env(env):\n",
    "    env = Monitor(env, './video', force=True)\n",
    "    return env"
   ]
  },
  {
   "cell_type": "code",
   "execution_count": 7,
   "metadata": {
    "colab": {},
    "colab_type": "code",
    "id": "Dfi89tXjmuet"
   },
   "outputs": [],
   "source": [
    "#device = torch.device('cuda:0' if torch.cuda.is_available() else 'cpu') #позволяет перенести тензор на GPU, если он доступен в системе"
   ]
  },
  {
   "cell_type": "code",
   "execution_count": 8,
   "metadata": {},
   "outputs": [],
   "source": [
    "device = torch.device('cpu') #позволяет перенести тензор на GPU, если он доступен в системе"
   ]
  },
  {
   "cell_type": "markdown",
   "metadata": {
    "colab_type": "text",
    "id": "AhDVTPxymuez"
   },
   "source": [
    "## OpenAI Gym"
   ]
  },
  {
   "cell_type": "markdown",
   "metadata": {
    "colab_type": "text",
    "id": "VZb-IIq4muez"
   },
   "source": [
    "[OpenAI Gym](https://gym.openai.com) это набор сред для разработки и сравнения алгоритмов обучения с подкреплением."
   ]
  },
  {
   "cell_type": "markdown",
   "metadata": {
    "colab_type": "text",
    "id": "fFkuRjxNmue2"
   },
   "source": [
    "OpenAI Gym предоставляет простой и универсальный API ко многим средам с разными свойствами, как простым так и сложным:\n",
    "* Классические задачи управления и игрушечные примеры, которые можно найти в учебниках и на которых демонстрируется работа алгоритмов обучения с подкреплением (одна из этих сред используется в этом задании)\n",
    "* Игры Atari (оказали огромное влияние на достижения в обучении с подкреплением в последние годы)\n",
    "* 2D и 3D среды для контроля роботов в симуляции (используют проприетарный движок [Mojuco](http://www.mujoco.org))"
   ]
  },
  {
   "cell_type": "markdown",
   "metadata": {
    "colab_type": "text",
    "id": "NIu0Uhj7mue5"
   },
   "source": [
    "Рассмотрим, как устроена среда [CartPole-v0](https://gym.openai.com/envs/CartPole-v0), с которой мы будем работать."
   ]
  },
  {
   "cell_type": "markdown",
   "metadata": {
    "colab_type": "text",
    "id": "KYHUeiMXmue6"
   },
   "source": [
    "Для этого создадим среду и выведем ее описание."
   ]
  },
  {
   "cell_type": "code",
   "execution_count": 9,
   "metadata": {
    "colab": {},
    "colab_type": "code",
    "id": "b9BRqxoDmue7"
   },
   "outputs": [
    {
     "name": "stdout",
     "output_type": "stream",
     "text": [
      "\n",
      "    Description:\n",
      "        A pole is attached by an un-actuated joint to a cart, which moves along\n",
      "        a frictionless track. The pendulum starts upright, and the goal is to\n",
      "        prevent it from falling over by increasing and reducing the cart's\n",
      "        velocity.\n",
      "\n",
      "    Source:\n",
      "        This environment corresponds to the version of the cart-pole problem\n",
      "        described by Barto, Sutton, and Anderson\n",
      "\n",
      "    Observation:\n",
      "        Type: Box(4)\n",
      "        Num     Observation               Min                     Max\n",
      "        0       Cart Position             -4.8                    4.8\n",
      "        1       Cart Velocity             -Inf                    Inf\n",
      "        2       Pole Angle                -0.418 rad (-24 deg)    0.418 rad (24 deg)\n",
      "        3       Pole Angular Velocity     -Inf                    Inf\n",
      "\n",
      "    Actions:\n",
      "        Type: Discrete(2)\n",
      "        Num   Action\n",
      "        0     Push cart to the left\n",
      "        1     Push cart to the right\n",
      "\n",
      "        Note: The amount the velocity that is reduced or increased is not\n",
      "        fixed; it depends on the angle the pole is pointing. This is because\n",
      "        the center of gravity of the pole increases the amount of energy needed\n",
      "        to move the cart underneath it\n",
      "\n",
      "    Reward:\n",
      "        Reward is 1 for every step taken, including the termination step\n",
      "\n",
      "    Starting State:\n",
      "        All observations are assigned a uniform random value in [-0.05..0.05]\n",
      "\n",
      "    Episode Termination:\n",
      "        Pole Angle is more than 12 degrees.\n",
      "        Cart Position is more than 2.4 (center of the cart reaches the edge of\n",
      "        the display).\n",
      "        Episode length is greater than 200.\n",
      "        Solved Requirements:\n",
      "        Considered solved when the average return is greater than or equal to\n",
      "        195.0 over 100 consecutive trials.\n",
      "    \n"
     ]
    }
   ],
   "source": [
    "env = gym.make(\"CartPole-v0\")\n",
    "print(env.env.__doc__)"
   ]
  },
  {
   "cell_type": "markdown",
   "metadata": {
    "colab_type": "text",
    "id": "tovAoT5dmufD"
   },
   "source": [
    "Из этого описания мы можем узнать, как устроены пространства состояний и действий в этой среды, какие награды получаются на каждом шаге, а также, что нам необходимо сделать, чтобы научиться \"решать\" эту среду, а именно достич средней награды больше 195.0 или больше за 100 последовательных запусков агента в этой среде. Именно такого агента мы и попробуем создать и обучить."
   ]
  },
  {
   "cell_type": "markdown",
   "metadata": {
    "colab_type": "text",
    "id": "hZ98fYaxmufF"
   },
   "source": [
    "Но для начала напишем вспомогательную функцию, которая будет принимать на вход среду, агента и число эпизодов, и возвращать среднюю награду за 100 эпизодов. С помощью этой функции мы сможем протестировать, насколько хорошо обучился наш агент, а также визуализировать его поведение в среде."
   ]
  },
  {
   "cell_type": "code",
   "execution_count": 10,
   "metadata": {
    "colab": {},
    "colab_type": "code",
    "id": "0jXEOwd7njUm"
   },
   "outputs": [],
   "source": [
    "def test_agent(env, agent=None, n_episodes=100):\n",
    "    \"\"\"Runs agent for n_episodes in environment and calclates mean reward.\n",
    "    \n",
    "    Args:\n",
    "        env: The environment for agent to play in\n",
    "        agent: The agent to play with. Defaults to None - \n",
    "            in this case random agent is used.\n",
    "        n_episodes: Number of episodes to play. Defaults to 100.\n",
    "\n",
    "    Returns:\n",
    "        Mean reward for 100 episodes.\n",
    "    \"\"\"\n",
    "    total_reward = []\n",
    "    for episode in range(n_episodes):\n",
    "        episode_reward = 0\n",
    "        observation = env.reset()\n",
    "        t = 0\n",
    "        while True:\n",
    "            if agent:\n",
    "                with torch.no_grad():\n",
    "                    probs = agent(torch.FloatTensor(observation).to(device))\n",
    "                    dist = Categorical(probs)\n",
    "                    action = dist.sample().item()\n",
    "            else:\n",
    "                action = env.action_space.sample()\n",
    "            observation, reward, done, info = env.step(action)\n",
    "            episode_reward += reward\n",
    "            t += 1\n",
    "            if done:\n",
    "                print(\"Episode {} finished after {} timesteps\".format(episode+1, t+1))\n",
    "                break\n",
    "        total_reward.append(episode_reward)\n",
    "        env.close()\n",
    "                   \n",
    "    return np.mean(total_reward)"
   ]
  },
  {
   "cell_type": "markdown",
   "metadata": {
    "colab_type": "text",
    "id": "TqnYqFVSmufL"
   },
   "source": [
    "Протестируем и визуализируем случайного агента (параметр ```agent=False```)."
   ]
  },
  {
   "cell_type": "code",
   "execution_count": 11,
   "metadata": {
    "colab": {},
    "colab_type": "code",
    "id": "yqVokBDFmufM",
    "scrolled": true
   },
   "outputs": [
    {
     "name": "stdout",
     "output_type": "stream",
     "text": [
      "Episode 1 finished after 15 timesteps\n",
      "Episode 2 finished after 28 timesteps\n",
      "Episode 3 finished after 45 timesteps\n",
      "Episode 4 finished after 14 timesteps\n",
      "Episode 5 finished after 23 timesteps\n",
      "Episode 6 finished after 13 timesteps\n",
      "Episode 7 finished after 56 timesteps\n",
      "Episode 8 finished after 60 timesteps\n",
      "Episode 9 finished after 33 timesteps\n",
      "Episode 10 finished after 33 timesteps\n",
      "Episode 11 finished after 17 timesteps\n",
      "Episode 12 finished after 12 timesteps\n",
      "Episode 13 finished after 15 timesteps\n",
      "Episode 14 finished after 14 timesteps\n",
      "Episode 15 finished after 22 timesteps\n",
      "Episode 16 finished after 15 timesteps\n",
      "Episode 17 finished after 14 timesteps\n",
      "Episode 18 finished after 16 timesteps\n",
      "Episode 19 finished after 14 timesteps\n",
      "Episode 20 finished after 36 timesteps\n",
      "Episode 21 finished after 12 timesteps\n",
      "Episode 22 finished after 22 timesteps\n",
      "Episode 23 finished after 15 timesteps\n",
      "Episode 24 finished after 20 timesteps\n",
      "Episode 25 finished after 35 timesteps\n",
      "Episode 26 finished after 27 timesteps\n",
      "Episode 27 finished after 27 timesteps\n",
      "Episode 28 finished after 14 timesteps\n",
      "Episode 29 finished after 17 timesteps\n",
      "Episode 30 finished after 17 timesteps\n",
      "Episode 31 finished after 21 timesteps\n",
      "Episode 32 finished after 40 timesteps\n",
      "Episode 33 finished after 12 timesteps\n",
      "Episode 34 finished after 45 timesteps\n",
      "Episode 35 finished after 39 timesteps\n",
      "Episode 36 finished after 22 timesteps\n",
      "Episode 37 finished after 12 timesteps\n",
      "Episode 38 finished after 44 timesteps\n",
      "Episode 39 finished after 21 timesteps\n",
      "Episode 40 finished after 20 timesteps\n",
      "Episode 41 finished after 39 timesteps\n",
      "Episode 42 finished after 24 timesteps\n",
      "Episode 43 finished after 18 timesteps\n",
      "Episode 44 finished after 21 timesteps\n",
      "Episode 45 finished after 21 timesteps\n",
      "Episode 46 finished after 35 timesteps\n",
      "Episode 47 finished after 36 timesteps\n",
      "Episode 48 finished after 24 timesteps\n",
      "Episode 49 finished after 18 timesteps\n",
      "Episode 50 finished after 24 timesteps\n",
      "Episode 51 finished after 27 timesteps\n",
      "Episode 52 finished after 31 timesteps\n",
      "Episode 53 finished after 50 timesteps\n",
      "Episode 54 finished after 18 timesteps\n",
      "Episode 55 finished after 9 timesteps\n",
      "Episode 56 finished after 18 timesteps\n",
      "Episode 57 finished after 37 timesteps\n",
      "Episode 58 finished after 31 timesteps\n",
      "Episode 59 finished after 15 timesteps\n",
      "Episode 60 finished after 49 timesteps\n",
      "Episode 61 finished after 31 timesteps\n",
      "Episode 62 finished after 18 timesteps\n",
      "Episode 63 finished after 19 timesteps\n",
      "Episode 64 finished after 26 timesteps\n",
      "Episode 65 finished after 28 timesteps\n",
      "Episode 66 finished after 17 timesteps\n",
      "Episode 67 finished after 34 timesteps\n",
      "Episode 68 finished after 30 timesteps\n",
      "Episode 69 finished after 20 timesteps\n",
      "Episode 70 finished after 25 timesteps\n",
      "Episode 71 finished after 27 timesteps\n",
      "Episode 72 finished after 15 timesteps\n",
      "Episode 73 finished after 15 timesteps\n",
      "Episode 74 finished after 32 timesteps\n",
      "Episode 75 finished after 21 timesteps\n",
      "Episode 76 finished after 20 timesteps\n",
      "Episode 77 finished after 16 timesteps\n",
      "Episode 78 finished after 24 timesteps\n",
      "Episode 79 finished after 36 timesteps\n",
      "Episode 80 finished after 26 timesteps\n",
      "Episode 81 finished after 14 timesteps\n",
      "Episode 82 finished after 23 timesteps\n",
      "Episode 83 finished after 37 timesteps\n",
      "Episode 84 finished after 18 timesteps\n",
      "Episode 85 finished after 11 timesteps\n",
      "Episode 86 finished after 13 timesteps\n",
      "Episode 87 finished after 11 timesteps\n",
      "Episode 88 finished after 29 timesteps\n",
      "Episode 89 finished after 22 timesteps\n",
      "Episode 90 finished after 14 timesteps\n",
      "Episode 91 finished after 18 timesteps\n",
      "Episode 92 finished after 12 timesteps\n",
      "Episode 93 finished after 44 timesteps\n",
      "Episode 94 finished after 12 timesteps\n",
      "Episode 95 finished after 22 timesteps\n",
      "Episode 96 finished after 25 timesteps\n",
      "Episode 97 finished after 12 timesteps\n",
      "Episode 98 finished after 14 timesteps\n",
      "Episode 99 finished after 14 timesteps\n",
      "Episode 100 finished after 30 timesteps\n"
     ]
    },
    {
     "data": {
      "text/plain": [
       "22.97"
      ]
     },
     "execution_count": 11,
     "metadata": {},
     "output_type": "execute_result"
    }
   ],
   "source": [
    "test_agent(env, agent=False, n_episodes=100)"
   ]
  },
  {
   "cell_type": "markdown",
   "metadata": {
    "colab_type": "text",
    "id": "8bzNtyllmufS"
   },
   "source": [
    "Как видно, наш случайный агент выступает не очень хорошо и в среднем может удержать шест всего около 20 шагов."
   ]
  },
  {
   "cell_type": "markdown",
   "metadata": {
    "colab_type": "text",
    "id": "BNcZLQpzmufU"
   },
   "source": [
    "Напишем функцию для визуализации агента и посмотрим на случайного агента."
   ]
  },
  {
   "cell_type": "code",
   "execution_count": 12,
   "metadata": {
    "colab": {},
    "colab_type": "code",
    "id": "GgThoRPgoMcs"
   },
   "outputs": [],
   "source": [
    "def agent_viz(env=\"CartPole-v0\", agent=None):\n",
    "    \"\"\"Visualizes agent play in the given environment.\n",
    "    \n",
    "    Args:\n",
    "        env: The environment for agent to play in. Defaults to CartPole-v0.\n",
    "        agent: The agent to play with. Defaults to None - \n",
    "            in this case random agent is used.\n",
    "\n",
    "    Returns:\n",
    "        Nothing is returned. Visualization is created and can be showed\n",
    "            with show_video() function.\n",
    "    \"\"\"\n",
    "    env = wrap_env(gym.make(env))\n",
    "    observation = env.reset()\n",
    "    while True:\n",
    "        env.render() \n",
    "        if agent:\n",
    "            with torch.no_grad():\n",
    "                probs = agent(torch.FloatTensor(observation).to(device))\n",
    "                dist = Categorical(probs)\n",
    "                action = dist.sample().item()\n",
    "        else:\n",
    "            action = env.action_space.sample()\n",
    "        observation, reward, done, info = env.step(action)\n",
    "        if done:\n",
    "            break\n",
    "            \n",
    "    env.close()"
   ]
  },
  {
   "cell_type": "code",
   "execution_count": 13,
   "metadata": {
    "colab": {},
    "colab_type": "code",
    "id": "b5FLllE_pHSf",
    "scrolled": true
   },
   "outputs": [
    {
     "data": {
      "text/html": [
       "<video alt=\"test\" autoplay \n",
       "                loop controls style=\"height: 400px;\">\n",
       "                <source src=\"data:video/mp4;base64,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\" type=\"video/mp4\" />\n",
       "             </video>"
      ],
      "text/plain": [
       "<IPython.core.display.HTML object>"
      ]
     },
     "metadata": {},
     "output_type": "display_data"
    }
   ],
   "source": [
    "agent_viz()\n",
    "show_video()\n",
    "#не воспроизводится в моем браузере, смотреть результат в папке \"видео\""
   ]
  },
  {
   "cell_type": "markdown",
   "metadata": {
    "colab_type": "text",
    "id": "hpQF0xgJmufW"
   },
   "source": [
    "Попробуем применить обучение с подкреплением и алгоритм REINFORCE для того, чтобы в среднем за 100 эпиздов мы держали шест не менее 195 шагов."
   ]
  },
  {
   "cell_type": "markdown",
   "metadata": {
    "colab_type": "text",
    "id": "M2SkO__WmufX"
   },
   "source": [
    "## REINFORCE"
   ]
  },
  {
   "cell_type": "markdown",
   "metadata": {
    "colab_type": "text",
    "id": "QW95huRpmufY"
   },
   "source": [
    "Вспомним, что из себя представляет алгоритм REINFORCE (Sutton & Barto) <img src=\"//i.imgur.com/bnASTrY.png\" width=\"700\">"
   ]
  },
  {
   "cell_type": "markdown",
   "metadata": {
    "colab_type": "text",
    "id": "CFD7oH9mmufZ"
   },
   "source": [
    "1. Инициализуем политику (в качестве политики мы будем использовать глубокую нейронную сеть).\n",
    "2. \"Играем\" в среде эпизод, используя нашу политику, или несколько (мы будем использовать последний вариант) и собираем данные о состояниях, действиях и полученных наградах. \n",
    "3. Для каждого состояния в собранных эпизодах вычисляем сумму дисконтированных наград, полученных из этого состояния, а также логорифм правдоподобия предпринятого действия в этом состоянии для нашей политики.\n",
    "4. Обновляем параметры нашей политики по формуле на схеме."
   ]
  },
  {
   "cell_type": "markdown",
   "metadata": {
    "colab_type": "text",
    "id": "Zjhox1Rdmufa"
   },
   "source": [
    "### Политика"
   ]
  },
  {
   "cell_type": "markdown",
   "metadata": {
    "colab_type": "text",
    "id": "v5KOdiJrmufb"
   },
   "source": [
    "Наша политика должна принимать на вход состояние среды, а на выходе выдавать распределение по действиям, которые мы можем осуществлять в среде.\n",
    "\n",
    "**Задание:** Создать класс нейронной сети со следующей архитектурой ```Linear -> ReLU -> Linear -> Softmax```. Параметрами инициализации должны служить размерности пространства состояний, пространства действий и размер скрытого слоя."
   ]
  },
  {
   "cell_type": "code",
   "execution_count": 14,
   "metadata": {},
   "outputs": [],
   "source": [
    "import torch"
   ]
  },
  {
   "cell_type": "code",
   "execution_count": 88,
   "metadata": {
    "colab": {},
    "colab_type": "code",
    "id": "BSbzinGQidFm"
   },
   "outputs": [],
   "source": [
    "class Policy(nn.Module):\n",
    "    \"\"\"Policy to be used by agent.\n",
    "\n",
    "    Attributes:\n",
    "        state_size: Dimention of the state space of the environment.\n",
    "        act_size: Dimention of the action space of the environment.\n",
    "        hidden_size: Dimention of the hidden state of the agent's policy.\n",
    "    \"\"\"\n",
    "    def __init__(self, state_size, act_size, hidden_size):\n",
    "        super().__init__()\n",
    "        \n",
    "        self.state_size = state_size\n",
    "        self.act_size = act_size\n",
    "        self.hidden_size = hidden_size\n",
    "        \n",
    "        self.fc1 = nn.Linear(state_size, hidden_size)\n",
    "        self.relu = nn.ReLU(inplace=True)\n",
    "        self.fc2 = nn.Linear(hidden_size, act_size)\n",
    "        self.sm = nn.Softmax(dim=1)\n",
    "        #self.sm = nn.Softmax(dim=0)\n",
    "    \n",
    "    def forward(self, inputs):\n",
    "        inputs = inputs.reshape((-1,self.state_size))\n",
    "        output = self.fc1(inputs)\n",
    "        output = self.relu(output)\n",
    "        output = self.fc2(output)\n",
    "        return self.sm(output).view(-1)"
   ]
  },
  {
   "cell_type": "markdown",
   "metadata": {
    "colab_type": "text",
    "id": "E0bYNhJ_mufh"
   },
   "source": [
    "### Оценка правдоподобия и расчет суммы дисконтированных наград"
   ]
  },
  {
   "cell_type": "markdown",
   "metadata": {
    "colab_type": "text",
    "id": "QMZIoW8pmufi"
   },
   "source": [
    "**Задание:** Напишем вспомогательная функцию, которая принимает на вход политику, батч траекторий и фактор дисконтирования, и должна вернуть следующие величины: \n",
    "* правдоподобие действия на каждом шаге на траектории посчитанные для всего батча;\n",
    "* дисконтированные суммы наград (reward-to-go) из каждого состояния среды на траектории посчитанные для всего батча;"
   ]
  },
  {
   "cell_type": "markdown",
   "metadata": {
    "colab_type": "text",
    "id": "rcs_Xi-jmufl"
   },
   "source": [
    "**Hint**: Представим батч траекторий как ```list```, в котром также хранится ```list``` для каждой траектории, в котором каждый шаг хранится, как ```namedtuple```:\n",
    "```transition = collections.namedtuple(\"transition\", [\"state\", \"action\", \"reward\"])```"
   ]
  },
  {
   "cell_type": "code",
   "execution_count": 89,
   "metadata": {
    "colab": {},
    "colab_type": "code",
    "id": "eGHfushNmufl"
   },
   "outputs": [],
   "source": [
    "def process_traj_batch(policy, batch, discount):\n",
    "    \"\"\"Computes log probabilities for each action \n",
    "        and rewards-to-go for each state in the batch of trajectories.\n",
    "    \n",
    "    Args:\n",
    "        policy: Policy of the agent.\n",
    "        batch (list of list of collections.namedtuple): Batch of trajectories.\n",
    "        discount (float): Discount factor for rewards-to-go calculation.\n",
    "\n",
    "    Returns:\n",
    "        log_probs (list of torch.FloatTensor): List of log probabilities for\n",
    "            each action in the batch of trajectories.\n",
    "        returns (list of rewards-to-go): List of rewards-to-go for \n",
    "            each state in the batch of trajectories.\n",
    "    \"\"\"\n",
    "    batch_rewards = []\n",
    "    batch_probs = []\n",
    "    \n",
    "    for traj in batch:\n",
    "        rewards = [0]*len(traj)\n",
    "        \n",
    "        for i in range(len(traj)):           \n",
    "            probs_step = policy.forward(traj[i].state)\n",
    "            prob_action = probs_step[traj[i].action.item()]\n",
    "            batch_probs.append(torch.log(prob_action))\n",
    "        \n",
    "            for j in range(i, len(traj)):\n",
    "                rewards[i] += traj[j].reward*discount**(j-i)\n",
    "            \n",
    "        batch_rewards.extend(rewards)\n",
    "        \n",
    "    return batch_probs, batch_rewards"
   ]
  },
  {
   "cell_type": "markdown",
   "metadata": {
    "colab_type": "text",
    "id": "mp6xKRWXmufp"
   },
   "source": [
    "Ваша реализация функции должна проходить следующий тест."
   ]
  },
  {
   "cell_type": "code",
   "execution_count": 90,
   "metadata": {
    "colab": {},
    "colab_type": "code",
    "id": "qVJnolh-mufq"
   },
   "outputs": [],
   "source": [
    "def test_process_traj_batch(process_traj_batch):\n",
    "    \n",
    "    transition = collections.namedtuple(\"transition\", [\"state\", \"action\", \"reward\"])\n",
    "    \n",
    "    class HelperPolicy(nn.Module):\n",
    "        def __init__(self):\n",
    "            super(HelperPolicy, self).__init__()\n",
    "        \n",
    "            self.act = nn.Sequential(\n",
    "                nn.Linear(4, 2),\n",
    "                nn.Softmax(dim=0),\n",
    "            )\n",
    "        \n",
    "        def forward(self, x):\n",
    "            return self.act(x)\n",
    "        \n",
    "    policy = HelperPolicy().to(device)\n",
    "    \n",
    "    for name, param in policy.named_parameters():\n",
    "        if name == \"act.0.weight\":\n",
    "            param.data = torch.tensor([[1.7492, -0.2471, 0.3310, 1.1494],\n",
    "                                       [0.6171, -0.6026, 0.5025, -0.3196]])\n",
    "        else:\n",
    "            param.data = torch.tensor([0.0262, 0.1882])\n",
    "            \n",
    "    batch = [\n",
    "        [\n",
    "            transition(state=torch.tensor([ 0.0462, -0.0018,  0.0372,  0.0063]).to(device),\n",
    "                       action=torch.tensor(0).to(device), reward=1.0), \n",
    "            transition(state=torch.tensor([ 0.0462, -0.1975,  0.0373,  0.3105]).to(device),\n",
    "                       action=torch.tensor(1).to(device), reward=1.0), \n",
    "            transition(state=torch.tensor([ 0.0422, -0.0029,  0.0435,  0.0298]).to(device),\n",
    "                       action=torch.tensor(0).to(device), reward=1.0), \n",
    "            transition(state=torch.tensor([ 0.0422, -0.1986,  0.0441,  0.3359]).to(device),\n",
    "                       action=torch.tensor(0).to(device), reward=1.0), \n",
    "        ],\n",
    "        [\n",
    "            transition(state=torch.tensor([ 0.0382, -0.3943,  0.0508,  0.6421]).to(device),\n",
    "                       action=torch.tensor(1).to(device), reward=1.0), \n",
    "            transition(state=torch.tensor([ 0.0303, -0.2000,  0.0637,  0.3659]).to(device),\n",
    "                       action=torch.tensor(1).to(device), reward=1.0), \n",
    "            transition(state=torch.tensor([ 0.0263, -0.0058,  0.0710,  0.0939]).to(device),\n",
    "                       action=torch.tensor(1).to(device), reward=1.0), \n",
    "            transition(state=torch.tensor([ 0.0262,  0.1882,  0.0729, -0.1755]).to(device),\n",
    "                       action=torch.tensor(0).to(device), reward=1.0)\n",
    "        ]\n",
    "    ]\n",
    "    \n",
    "    log_probs, returns = process_traj_batch(policy, batch, 0.9)\n",
    "    \n",
    "    assert sum(log_probs).item() == -6.3940582275390625, \"Log probabilities calculation is incorrect!!!\"\n",
    "    assert sum(returns) == 18.098, \"Log probabilities calculation is incorrect!!!\"\n",
    "    print(\"Correct!\")"
   ]
  },
  {
   "cell_type": "code",
   "execution_count": 91,
   "metadata": {
    "colab": {},
    "colab_type": "code",
    "id": "_qKrJpyBmufu"
   },
   "outputs": [
    {
     "name": "stdout",
     "output_type": "stream",
     "text": [
      "Correct!\n"
     ]
    }
   ],
   "source": [
    "test_process_traj_batch(process_traj_batch)"
   ]
  },
  {
   "cell_type": "markdown",
   "metadata": {
    "colab_type": "text",
    "id": "7_y4MJPxmufz"
   },
   "source": [
    "### Вспомогательные функции и гиперпараметры"
   ]
  },
  {
   "cell_type": "markdown",
   "metadata": {
    "colab_type": "text",
    "id": "PKF5itlpmuf0"
   },
   "source": [
    "Функция для расчета скользящего среднего - ее мы будем использовать для визуализации наград по эпизодам."
   ]
  },
  {
   "cell_type": "code",
   "execution_count": 117,
   "metadata": {
    "colab": {},
    "colab_type": "code",
    "id": "tHgXs9aPmuf2"
   },
   "outputs": [],
   "source": [
    "moving_average = lambda x, **kw: pd.DataFrame({'x':np.asarray(x)}).x.ewm(**kw).mean().values"
   ]
  },
  {
   "cell_type": "markdown",
   "metadata": {
    "colab_type": "text",
    "id": "P3oqmQmxmuf6"
   },
   "source": [
    "Определим также гиперпараметры."
   ]
  },
  {
   "cell_type": "code",
   "execution_count": 122,
   "metadata": {
    "colab": {},
    "colab_type": "code",
    "id": "cFSLjGjOms0m"
   },
   "outputs": [],
   "source": [
    "STATE_SIZE  = env.observation_space.shape[0] # размерность пространства состояний среды\n",
    "ACT_SIZE = env.action_space.n # размерность пространства действий среды\n",
    "HIDDEN_SIZE = 256 # размер скрытого слоя для политики\n",
    "NUM_EPISODES = 1000#1000 # количество эпиздов, которые будут сыграны для обучения\n",
    "DISCOUNT = 0.99 # фактор дисконтирования\n",
    "TRAIN_EVERY = 20"
   ]
  },
  {
   "cell_type": "markdown",
   "metadata": {
    "colab_type": "text",
    "id": "d1RZfo_1muf-"
   },
   "source": [
    "Инициализуем политику и алгоритм оптимизации - мы будем использовать Adam c праметрами по умолчанию."
   ]
  },
  {
   "cell_type": "code",
   "execution_count": 123,
   "metadata": {
    "colab": {},
    "colab_type": "code",
    "id": "zEKqg4Ykmuf_"
   },
   "outputs": [],
   "source": [
    "policy = Policy(STATE_SIZE, ACT_SIZE, HIDDEN_SIZE).to(device)\n",
    "optimizer = Adam(policy.parameters())"
   ]
  },
  {
   "cell_type": "code",
   "execution_count": 124,
   "metadata": {
    "colab": {},
    "colab_type": "code",
    "id": "EIbRMh3MmugC"
   },
   "outputs": [],
   "source": [
    "transition = collections.namedtuple(\"transition\", [\"state\", \"action\", \"reward\"])"
   ]
  },
  {
   "cell_type": "markdown",
   "metadata": {
    "colab_type": "text",
    "id": "jRRCJTnimugE"
   },
   "source": [
    "### Основной цикл обучения"
   ]
  },
  {
   "cell_type": "markdown",
   "metadata": {
    "colab_type": "text",
    "id": "FcQ4-JMymugE"
   },
   "source": [
    "Теперь, когда мы опредлели вспомогательные функции, то нам следует написать основной цикл обучения агент.\n",
    "В цикле должно происходить следующее:"
   ]
  },
  {
   "cell_type": "markdown",
   "metadata": {
    "colab_type": "text",
    "id": "1wih2vIYmugG"
   },
   "source": [
    "1. Играем количество эпизодов, определенное в гиперпараметре ```NUM_EPISODES```.\n",
    "2. В каждом эпизоде сохраняем информацию о шагах на траектории - состояние, действие и награду.\n",
    "3. В конце каждого эпизода сохраняем вышеуказанную информацию о траектории. \n",
    "4. Периодически обучаемся на собранных эпизодах каждые ```TRAIN_EVERY``` эпизодов:  \n",
    "    4.1. Считаем для собранного батча для каждого шага на трактории правдоподобие и сумму дисконтированных наград.  \n",
    "    4.2. Обновляем параметры политики агента по формуле, приведенной на схеме."
   ]
  },
  {
   "cell_type": "markdown",
   "metadata": {
    "colab_type": "text",
    "id": "gb1eIuJqmugI"
   },
   "source": [
    "**Задание:** Реализовать алгоритм обучения, описанный на схеме и в тексте выше. Шаблон кода алгоритма представлен ниже. При этом следует сохранять сумму ревордов для каждого эпизода в переменную ```returns_history```. Алгоритму потребуется около 1000 эпизодов игры, для того чтобы научиться играть в игру (если после 1000 эпизодов агент играет немного хуже, чем для победы в игре, попробуйте обучать его немного дольше или установите критерий останова - когда средняя награда за 100 последних эпизодов превышает значение в ```env.spec.reward_threshold``` )"
   ]
  },
  {
   "cell_type": "code",
   "execution_count": 125,
   "metadata": {
    "colab": {},
    "colab_type": "code",
    "id": "cvEwjezan5tl"
   },
   "outputs": [
    {
     "data": {
      "image/png": "[encoded data removed]",
      "text/plain": [
       "<Figure size 864x432 with 1 Axes>"
      ]
     },
     "metadata": {
      "needs_background": "light"
     },
     "output_type": "display_data"
    },
    {
     "name": "stdout",
     "output_type": "stream",
     "text": [
      "Episode 952 finished after 201 timesteps\n",
      "Episode 953 finished after 201 timesteps\n",
      "Episode 954 finished after 201 timesteps\n",
      "Episode 955 finished after 201 timesteps\n",
      "Episode 956 finished after 201 timesteps\n",
      "Episode 957 finished after 201 timesteps\n",
      "Episode 958 finished after 201 timesteps\n",
      "Episode 959 finished after 201 timesteps\n",
      "Episode 960 finished after 201 timesteps\n",
      "Episode 961 finished after 201 timesteps\n",
      "Episode 962 finished after 201 timesteps\n",
      "Episode 963 finished after 201 timesteps\n",
      "Episode 964 finished after 201 timesteps\n",
      "Episode 965 finished after 201 timesteps\n",
      "Episode 966 finished after 201 timesteps\n",
      "Episode 967 finished after 201 timesteps\n",
      "Episode 968 finished after 201 timesteps\n",
      "Episode 969 finished after 201 timesteps\n",
      "Episode 970 finished after 201 timesteps\n",
      "Episode 971 finished after 201 timesteps\n",
      "Episode 972 finished after 201 timesteps\n",
      "Episode 973 finished after 201 timesteps\n",
      "Episode 974 finished after 201 timesteps\n",
      "Episode 975 finished after 201 timesteps\n",
      "Episode 976 finished after 201 timesteps\n",
      "Episode 977 finished after 201 timesteps\n",
      "Episode 978 finished after 201 timesteps\n",
      "Episode 979 finished after 201 timesteps\n",
      "Episode 980 finished after 201 timesteps\n",
      "Episode 981 finished after 201 timesteps\n",
      "Episode 982 finished after 201 timesteps\n",
      "Episode 983 finished after 201 timesteps\n",
      "Episode 984 finished after 201 timesteps\n",
      "Episode 985 finished after 128 timesteps\n",
      "Episode 986 finished after 201 timesteps\n",
      "Episode 987 finished after 201 timesteps\n",
      "Episode 988 finished after 201 timesteps\n",
      "Episode 989 finished after 201 timesteps\n",
      "Episode 990 finished after 201 timesteps\n",
      "Episode 991 finished after 201 timesteps\n",
      "Episode 992 finished after 201 timesteps\n",
      "Episode 993 finished after 201 timesteps\n",
      "Episode 994 finished after 201 timesteps\n",
      "Episode 995 finished after 201 timesteps\n",
      "Episode 996 finished after 201 timesteps\n",
      "Episode 997 finished after 201 timesteps\n",
      "Episode 998 finished after 201 timesteps\n",
      "Episode 999 finished after 201 timesteps\n",
      "Episode 1000 finished after 201 timesteps\n"
     ]
    }
   ],
   "source": [
    "returns_history = []\n",
    "traj_batch = []\n",
    "\n",
    "for i in range(NUM_EPISODES):\n",
    "        \n",
    "    # TO DO\n",
    "    observation = env.reset()\n",
    "    episode_reward = 0\n",
    "    t = 0\n",
    "    episode_traj = []\n",
    "    \n",
    "    while True:\n",
    "        with torch.no_grad():\n",
    "            observation = torch.FloatTensor(observation)\n",
    "            prev_observation = observation\n",
    "                        \n",
    "            probs = policy(observation)            \n",
    "            dist = Categorical(probs)\n",
    "            action = dist.sample().item()\n",
    "            #action = torch.argmax(probs).item()\n",
    "            \n",
    "            observation, reward, done, info = env.step(action)\n",
    "            \n",
    "            episode_traj.append(transition(prev_observation, torch.tensor(action), reward))\n",
    "            #episode_traj.append(transition(torch.FloatTensor(observation), torch.tensor(action).to(device), reward))\n",
    "            episode_reward += reward\n",
    "            t += 1\n",
    "            if done:\n",
    "                print(\"Episode {} finished after {} timesteps\".format(i+1, t+1))\n",
    "                break\n",
    "    \n",
    "        \n",
    "    returns_history.append(episode_reward)    \n",
    "    traj_batch.append(episode_traj)\n",
    "    \n",
    "    env.close()\n",
    "    \n",
    "    if i % TRAIN_EVERY :#== 0:        \n",
    "        log_probs, returns = process_traj_batch(policy, traj_batch, DISCOUNT)\n",
    "        loss = -(torch.stack(log_probs) * torch.FloatTensor(returns).to(device)).sum()\n",
    "        #print('i%, loss:', i, i % TRAIN_EVERY, loss)\n",
    "        optimizer.zero_grad()\n",
    "        loss.backward()\n",
    "        optimizer.step()\n",
    "        \n",
    "        traj_batch = []\n",
    "    \n",
    "    if i % 50 == 0:\n",
    "        clear_output(True)\n",
    "        plt.figure(figsize=[12, 6])\n",
    "        plt.title('Returns'); plt.grid()\n",
    "        plt.scatter(np.arange(len(returns_history)), returns_history, alpha=0.1)\n",
    "        plt.plot(moving_average(returns_history, span=10, min_periods=10))\n",
    "        plt.show()\n",
    "    "
   ]
  },
  {
   "cell_type": "markdown",
   "metadata": {
    "colab_type": "text",
    "id": "Be9Zh-MamugN"
   },
   "source": [
    "Протестируем обученного агента."
   ]
  },
  {
   "cell_type": "code",
   "execution_count": 126,
   "metadata": {
    "colab": {},
    "colab_type": "code",
    "id": "-ry9g_aBmugO"
   },
   "outputs": [
    {
     "name": "stdout",
     "output_type": "stream",
     "text": [
      "Episode 1 finished after 201 timesteps\n",
      "Episode 2 finished after 201 timesteps\n",
      "Episode 3 finished after 201 timesteps\n",
      "Episode 4 finished after 201 timesteps\n",
      "Episode 5 finished after 201 timesteps\n",
      "Episode 6 finished after 201 timesteps\n",
      "Episode 7 finished after 201 timesteps\n",
      "Episode 8 finished after 201 timesteps\n",
      "Episode 9 finished after 201 timesteps\n",
      "Episode 10 finished after 201 timesteps\n",
      "Episode 11 finished after 201 timesteps\n",
      "Episode 12 finished after 201 timesteps\n",
      "Episode 13 finished after 201 timesteps\n",
      "Episode 14 finished after 201 timesteps\n",
      "Episode 15 finished after 201 timesteps\n",
      "Episode 16 finished after 201 timesteps\n",
      "Episode 17 finished after 201 timesteps\n",
      "Episode 18 finished after 201 timesteps\n",
      "Episode 19 finished after 201 timesteps\n",
      "Episode 20 finished after 201 timesteps\n",
      "Episode 21 finished after 201 timesteps\n",
      "Episode 22 finished after 201 timesteps\n",
      "Episode 23 finished after 201 timesteps\n",
      "Episode 24 finished after 201 timesteps\n",
      "Episode 25 finished after 201 timesteps\n",
      "Episode 26 finished after 201 timesteps\n",
      "Episode 27 finished after 201 timesteps\n",
      "Episode 28 finished after 201 timesteps\n",
      "Episode 29 finished after 201 timesteps\n",
      "Episode 30 finished after 201 timesteps\n",
      "Episode 31 finished after 201 timesteps\n",
      "Episode 32 finished after 201 timesteps\n",
      "Episode 33 finished after 201 timesteps\n",
      "Episode 34 finished after 201 timesteps\n",
      "Episode 35 finished after 201 timesteps\n",
      "Episode 36 finished after 201 timesteps\n",
      "Episode 37 finished after 201 timesteps\n",
      "Episode 38 finished after 201 timesteps\n",
      "Episode 39 finished after 201 timesteps\n",
      "Episode 40 finished after 201 timesteps\n",
      "Episode 41 finished after 201 timesteps\n",
      "Episode 42 finished after 201 timesteps\n",
      "Episode 43 finished after 103 timesteps\n",
      "Episode 44 finished after 201 timesteps\n",
      "Episode 45 finished after 201 timesteps\n",
      "Episode 46 finished after 201 timesteps\n",
      "Episode 47 finished after 201 timesteps\n",
      "Episode 48 finished after 201 timesteps\n",
      "Episode 49 finished after 201 timesteps\n",
      "Episode 50 finished after 201 timesteps\n",
      "Episode 51 finished after 201 timesteps\n",
      "Episode 52 finished after 201 timesteps\n",
      "Episode 53 finished after 201 timesteps\n",
      "Episode 54 finished after 201 timesteps\n",
      "Episode 55 finished after 201 timesteps\n",
      "Episode 56 finished after 201 timesteps\n",
      "Episode 57 finished after 201 timesteps\n",
      "Episode 58 finished after 201 timesteps\n",
      "Episode 59 finished after 201 timesteps\n",
      "Episode 60 finished after 201 timesteps\n",
      "Episode 61 finished after 201 timesteps\n",
      "Episode 62 finished after 201 timesteps\n",
      "Episode 63 finished after 201 timesteps\n",
      "Episode 64 finished after 201 timesteps\n",
      "Episode 65 finished after 201 timesteps\n",
      "Episode 66 finished after 201 timesteps\n",
      "Episode 67 finished after 201 timesteps\n",
      "Episode 68 finished after 201 timesteps\n",
      "Episode 69 finished after 201 timesteps\n",
      "Episode 70 finished after 201 timesteps\n",
      "Episode 71 finished after 201 timesteps\n",
      "Episode 72 finished after 201 timesteps\n",
      "Episode 73 finished after 201 timesteps\n",
      "Episode 74 finished after 201 timesteps\n",
      "Episode 75 finished after 201 timesteps\n",
      "Episode 76 finished after 201 timesteps\n",
      "Episode 77 finished after 201 timesteps\n",
      "Episode 78 finished after 201 timesteps\n",
      "Episode 79 finished after 201 timesteps\n",
      "Episode 80 finished after 201 timesteps\n",
      "Episode 81 finished after 201 timesteps\n",
      "Episode 82 finished after 201 timesteps\n",
      "Episode 83 finished after 201 timesteps\n",
      "Episode 84 finished after 201 timesteps\n",
      "Episode 85 finished after 201 timesteps\n",
      "Episode 86 finished after 201 timesteps\n",
      "Episode 87 finished after 201 timesteps\n",
      "Episode 88 finished after 201 timesteps\n",
      "Episode 89 finished after 201 timesteps\n",
      "Episode 90 finished after 201 timesteps\n",
      "Episode 91 finished after 201 timesteps\n",
      "Episode 92 finished after 201 timesteps\n",
      "Episode 93 finished after 201 timesteps\n",
      "Episode 94 finished after 201 timesteps\n",
      "Episode 95 finished after 201 timesteps\n",
      "Episode 96 finished after 201 timesteps\n",
      "Episode 97 finished after 201 timesteps\n",
      "Episode 98 finished after 201 timesteps\n",
      "Episode 99 finished after 201 timesteps\n",
      "Episode 100 finished after 201 timesteps\n"
     ]
    },
    {
     "data": {
      "text/plain": [
       "199.02"
      ]
     },
     "execution_count": 126,
     "metadata": {},
     "output_type": "execute_result"
    }
   ],
   "source": [
    "test_agent(env, agent=policy, n_episodes=100)"
   ]
  },
  {
   "cell_type": "markdown",
   "metadata": {
    "colab_type": "text",
    "id": "rf18pOwCmugS"
   },
   "source": [
    "Обученный агент должен приближаться к искомому значению средней награды за 100 эпизодов 195."
   ]
  },
  {
   "cell_type": "markdown",
   "metadata": {
    "colab_type": "text",
    "id": "Gk3bQdF_mugT"
   },
   "source": [
    "Визуализируем обученного агента."
   ]
  },
  {
   "cell_type": "code",
   "execution_count": null,
   "metadata": {
    "colab": {},
    "colab_type": "code",
    "id": "c6QvXvwUsct6"
   },
   "outputs": [],
   "source": [
    "#agent_viz(agent=policy)\n",
    "#show_video()"
   ]
  },
  {
   "cell_type": "markdown",
   "metadata": {
    "colab_type": "text",
    "id": "YKkrymnnmugU"
   },
   "source": [
    "Как видно, агент выучил довольно хорошую стратегию для игры и способен долго удерживать шест."
   ]
  },
  {
   "cell_type": "markdown",
   "metadata": {
    "colab_type": "text",
    "id": "NHxdzJsQmugV"
   },
   "source": [
    "### REINFORCE with baselines (Опционально)"
   ]
  },
  {
   "cell_type": "markdown",
   "metadata": {
    "colab_type": "text",
    "id": "QM0DmpwlmugX"
   },
   "source": [
    "В лекциях вы слышали, что при расчете градиентов для обновления параметров политики агента мы можем вычесть из суммы дисконтированных наград ```baseline``` для уменьшения дисперсии градиентов и ускорения сходимости обучения - такой алгоритм называется REINFORCE with baselines. В качестве ```baseline``` мы можем использовать другую нейронную сеть, которая будет оценивать сумму дисконтированных наград из данного состояния *V(s)*. "
   ]
  },
  {
   "cell_type": "markdown",
   "metadata": {
    "colab_type": "text",
    "id": "jImFlpefmugX"
   },
   "source": [
    "Схема алгоритма REINFORCE with baselines (Sutton & Barto) <img src=\"//i.imgur.com/j3BcbHP.png\" width=\"700\">"
   ]
  },
  {
   "cell_type": "markdown",
   "metadata": {
    "colab_type": "text",
    "id": "ofDdKiKJmugY"
   },
   "source": [
    "**Задание**: Включите в уже разработанный алгоритм вторую нейронную сеть для оценки суммы дисконтированных наград *V(s)*. Используйте разницу между фактической суммой дисконтированных наград и оценкой в формуле функции потерь политики. В качестве функции потерь для *V(s)* используйте ```MSELoss```. Оцените скорость сходимости нового алгоритма."
   ]
  }
 ],
 "metadata": {
  "accelerator": "GPU",
  "colab": {
   "collapsed_sections": [],
   "name": "REINFORCE.ipynb",
   "private_outputs": true,
   "provenance": [],
   "version": "0.3.2"
  },
  "kernelspec": {
   "display_name": "Python 3",
   "language": "python",
   "name": "python3"
  },
  "language_info": {
   "codemirror_mode": {
    "name": "ipython",
    "version": 3
   },
   "file_extension": ".py",
   "mimetype": "text/x-python",
   "name": "python",
   "nbconvert_exporter": "python",
   "pygments_lexer": "ipython3",
   "version": "3.7.6"
  }
 },
 "nbformat": 4,
 "nbformat_minor": 1
}
